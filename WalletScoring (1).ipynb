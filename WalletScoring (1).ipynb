{
  "nbformat": 4,
  "nbformat_minor": 0,
  "metadata": {
    "colab": {
      "provenance": []
    },
    "kernelspec": {
      "name": "python3",
      "display_name": "Python 3"
    },
    "language_info": {
      "name": "python"
    }
  },
  "cells": [
    {
      "cell_type": "code",
      "source": [
        "!pip install requests pandas tqdm\n"
      ],
      "metadata": {
        "collapsed": true,
        "colab": {
          "base_uri": "https://localhost:8080/"
        },
        "id": "xlJD32zrplDB",
        "outputId": "d69bf376-23ff-4fe3-a46f-b6d61d40807b"
      },
      "execution_count": 17,
      "outputs": [
        {
          "output_type": "stream",
          "name": "stdout",
          "text": [
            "Requirement already satisfied: requests in /usr/local/lib/python3.11/dist-packages (2.32.3)\n",
            "Requirement already satisfied: pandas in /usr/local/lib/python3.11/dist-packages (2.2.2)\n",
            "Requirement already satisfied: tqdm in /usr/local/lib/python3.11/dist-packages (4.67.1)\n",
            "Requirement already satisfied: charset-normalizer<4,>=2 in /usr/local/lib/python3.11/dist-packages (from requests) (3.4.2)\n",
            "Requirement already satisfied: idna<4,>=2.5 in /usr/local/lib/python3.11/dist-packages (from requests) (3.10)\n",
            "Requirement already satisfied: urllib3<3,>=1.21.1 in /usr/local/lib/python3.11/dist-packages (from requests) (2.5.0)\n",
            "Requirement already satisfied: certifi>=2017.4.17 in /usr/local/lib/python3.11/dist-packages (from requests) (2025.7.14)\n",
            "Requirement already satisfied: numpy>=1.23.2 in /usr/local/lib/python3.11/dist-packages (from pandas) (2.0.2)\n",
            "Requirement already satisfied: python-dateutil>=2.8.2 in /usr/local/lib/python3.11/dist-packages (from pandas) (2.9.0.post0)\n",
            "Requirement already satisfied: pytz>=2020.1 in /usr/local/lib/python3.11/dist-packages (from pandas) (2025.2)\n",
            "Requirement already satisfied: tzdata>=2022.7 in /usr/local/lib/python3.11/dist-packages (from pandas) (2025.2)\n",
            "Requirement already satisfied: six>=1.5 in /usr/local/lib/python3.11/dist-packages (from python-dateutil>=2.8.2->pandas) (1.17.0)\n"
          ]
        }
      ]
    },
    {
      "cell_type": "markdown",
      "source": [
        "***Uploading Dataset***"
      ],
      "metadata": {
        "id": "ry230gLOzBsu"
      }
    },
    {
      "cell_type": "code",
      "source": [
        "from google.colab import files\n",
        "uploaded = files.upload()\n"
      ],
      "metadata": {
        "colab": {
          "base_uri": "https://localhost:8080/",
          "height": 71
        },
        "id": "eGnpm9Zapu1e",
        "outputId": "f6367c00-8e93-4166-a516-e72aa9d32ac8"
      },
      "execution_count": 19,
      "outputs": [
        {
          "output_type": "display_data",
          "data": {
            "text/plain": [
              "<IPython.core.display.HTML object>"
            ],
            "text/html": [
              "\n",
              "     <input type=\"file\" id=\"files-28844fdd-8fd9-4486-a229-c8c01b74fabc\" name=\"files[]\" multiple disabled\n",
              "        style=\"border:none\" />\n",
              "     <output id=\"result-28844fdd-8fd9-4486-a229-c8c01b74fabc\">\n",
              "      Upload widget is only available when the cell has been executed in the\n",
              "      current browser session. Please rerun this cell to enable.\n",
              "      </output>\n",
              "      <script>// Copyright 2017 Google LLC\n",
              "//\n",
              "// Licensed under the Apache License, Version 2.0 (the \"License\");\n",
              "// you may not use this file except in compliance with the License.\n",
              "// You may obtain a copy of the License at\n",
              "//\n",
              "//      http://www.apache.org/licenses/LICENSE-2.0\n",
              "//\n",
              "// Unless required by applicable law or agreed to in writing, software\n",
              "// distributed under the License is distributed on an \"AS IS\" BASIS,\n",
              "// WITHOUT WARRANTIES OR CONDITIONS OF ANY KIND, either express or implied.\n",
              "// See the License for the specific language governing permissions and\n",
              "// limitations under the License.\n",
              "\n",
              "/**\n",
              " * @fileoverview Helpers for google.colab Python module.\n",
              " */\n",
              "(function(scope) {\n",
              "function span(text, styleAttributes = {}) {\n",
              "  const element = document.createElement('span');\n",
              "  element.textContent = text;\n",
              "  for (const key of Object.keys(styleAttributes)) {\n",
              "    element.style[key] = styleAttributes[key];\n",
              "  }\n",
              "  return element;\n",
              "}\n",
              "\n",
              "// Max number of bytes which will be uploaded at a time.\n",
              "const MAX_PAYLOAD_SIZE = 100 * 1024;\n",
              "\n",
              "function _uploadFiles(inputId, outputId) {\n",
              "  const steps = uploadFilesStep(inputId, outputId);\n",
              "  const outputElement = document.getElementById(outputId);\n",
              "  // Cache steps on the outputElement to make it available for the next call\n",
              "  // to uploadFilesContinue from Python.\n",
              "  outputElement.steps = steps;\n",
              "\n",
              "  return _uploadFilesContinue(outputId);\n",
              "}\n",
              "\n",
              "// This is roughly an async generator (not supported in the browser yet),\n",
              "// where there are multiple asynchronous steps and the Python side is going\n",
              "// to poll for completion of each step.\n",
              "// This uses a Promise to block the python side on completion of each step,\n",
              "// then passes the result of the previous step as the input to the next step.\n",
              "function _uploadFilesContinue(outputId) {\n",
              "  const outputElement = document.getElementById(outputId);\n",
              "  const steps = outputElement.steps;\n",
              "\n",
              "  const next = steps.next(outputElement.lastPromiseValue);\n",
              "  return Promise.resolve(next.value.promise).then((value) => {\n",
              "    // Cache the last promise value to make it available to the next\n",
              "    // step of the generator.\n",
              "    outputElement.lastPromiseValue = value;\n",
              "    return next.value.response;\n",
              "  });\n",
              "}\n",
              "\n",
              "/**\n",
              " * Generator function which is called between each async step of the upload\n",
              " * process.\n",
              " * @param {string} inputId Element ID of the input file picker element.\n",
              " * @param {string} outputId Element ID of the output display.\n",
              " * @return {!Iterable<!Object>} Iterable of next steps.\n",
              " */\n",
              "function* uploadFilesStep(inputId, outputId) {\n",
              "  const inputElement = document.getElementById(inputId);\n",
              "  inputElement.disabled = false;\n",
              "\n",
              "  const outputElement = document.getElementById(outputId);\n",
              "  outputElement.innerHTML = '';\n",
              "\n",
              "  const pickedPromise = new Promise((resolve) => {\n",
              "    inputElement.addEventListener('change', (e) => {\n",
              "      resolve(e.target.files);\n",
              "    });\n",
              "  });\n",
              "\n",
              "  const cancel = document.createElement('button');\n",
              "  inputElement.parentElement.appendChild(cancel);\n",
              "  cancel.textContent = 'Cancel upload';\n",
              "  const cancelPromise = new Promise((resolve) => {\n",
              "    cancel.onclick = () => {\n",
              "      resolve(null);\n",
              "    };\n",
              "  });\n",
              "\n",
              "  // Wait for the user to pick the files.\n",
              "  const files = yield {\n",
              "    promise: Promise.race([pickedPromise, cancelPromise]),\n",
              "    response: {\n",
              "      action: 'starting',\n",
              "    }\n",
              "  };\n",
              "\n",
              "  cancel.remove();\n",
              "\n",
              "  // Disable the input element since further picks are not allowed.\n",
              "  inputElement.disabled = true;\n",
              "\n",
              "  if (!files) {\n",
              "    return {\n",
              "      response: {\n",
              "        action: 'complete',\n",
              "      }\n",
              "    };\n",
              "  }\n",
              "\n",
              "  for (const file of files) {\n",
              "    const li = document.createElement('li');\n",
              "    li.append(span(file.name, {fontWeight: 'bold'}));\n",
              "    li.append(span(\n",
              "        `(${file.type || 'n/a'}) - ${file.size} bytes, ` +\n",
              "        `last modified: ${\n",
              "            file.lastModifiedDate ? file.lastModifiedDate.toLocaleDateString() :\n",
              "                                    'n/a'} - `));\n",
              "    const percent = span('0% done');\n",
              "    li.appendChild(percent);\n",
              "\n",
              "    outputElement.appendChild(li);\n",
              "\n",
              "    const fileDataPromise = new Promise((resolve) => {\n",
              "      const reader = new FileReader();\n",
              "      reader.onload = (e) => {\n",
              "        resolve(e.target.result);\n",
              "      };\n",
              "      reader.readAsArrayBuffer(file);\n",
              "    });\n",
              "    // Wait for the data to be ready.\n",
              "    let fileData = yield {\n",
              "      promise: fileDataPromise,\n",
              "      response: {\n",
              "        action: 'continue',\n",
              "      }\n",
              "    };\n",
              "\n",
              "    // Use a chunked sending to avoid message size limits. See b/62115660.\n",
              "    let position = 0;\n",
              "    do {\n",
              "      const length = Math.min(fileData.byteLength - position, MAX_PAYLOAD_SIZE);\n",
              "      const chunk = new Uint8Array(fileData, position, length);\n",
              "      position += length;\n",
              "\n",
              "      const base64 = btoa(String.fromCharCode.apply(null, chunk));\n",
              "      yield {\n",
              "        response: {\n",
              "          action: 'append',\n",
              "          file: file.name,\n",
              "          data: base64,\n",
              "        },\n",
              "      };\n",
              "\n",
              "      let percentDone = fileData.byteLength === 0 ?\n",
              "          100 :\n",
              "          Math.round((position / fileData.byteLength) * 100);\n",
              "      percent.textContent = `${percentDone}% done`;\n",
              "\n",
              "    } while (position < fileData.byteLength);\n",
              "  }\n",
              "\n",
              "  // All done.\n",
              "  yield {\n",
              "    response: {\n",
              "      action: 'complete',\n",
              "    }\n",
              "  };\n",
              "}\n",
              "\n",
              "scope.google = scope.google || {};\n",
              "scope.google.colab = scope.google.colab || {};\n",
              "scope.google.colab._files = {\n",
              "  _uploadFiles,\n",
              "  _uploadFilesContinue,\n",
              "};\n",
              "})(self);\n",
              "</script> "
            ]
          },
          "metadata": {}
        },
        {
          "output_type": "stream",
          "name": "stdout",
          "text": [
            "Saving Wallet id - Sheet1.csv to Wallet id - Sheet1.csv\n"
          ]
        }
      ]
    },
    {
      "cell_type": "markdown",
      "source": [
        "***Loading Columns***"
      ],
      "metadata": {
        "id": "608Fy9f0zFqf"
      }
    },
    {
      "cell_type": "code",
      "source": [
        "import pandas as pd\n",
        "\n",
        "wallets_df = pd.read_csv(\"Wallet id - Sheet1.csv\")\n",
        "wallets_df.columns = [col.strip().lower().replace(\" \", \"_\") for col in wallets_df.columns]\n",
        "wallets = wallets_df['wallet_id'].dropna().str.lower().unique().tolist()\n",
        "wallets[:5]\n"
      ],
      "metadata": {
        "colab": {
          "base_uri": "https://localhost:8080/"
        },
        "id": "pwhKMo_wpm97",
        "outputId": "876d98a4-18e8-4811-f9f7-c5be7cc5f29c"
      },
      "execution_count": 20,
      "outputs": [
        {
          "output_type": "execute_result",
          "data": {
            "text/plain": [
              "['0x0039f22efb07a647557c7c5d17854cfd6d489ef3',\n",
              " '0x06b51c6882b27cb05e712185531c1f74996dd988',\n",
              " '0x0795732aacc448030ef374374eaae57d2965c16c',\n",
              " '0x0aaa79f1a86bc8136cd0d1ca0d51964f4e3766f9',\n",
              " '0x0fe383e5abc200055a7f391f94a5f5d1f844b9ae']"
            ]
          },
          "metadata": {},
          "execution_count": 20
        }
      ]
    },
    {
      "cell_type": "markdown",
      "source": [
        "***Trying CompoundV2***"
      ],
      "metadata": {
        "id": "qraJ3cYyzf09"
      }
    },
    {
      "cell_type": "code",
      "source": [
        "import requests\n",
        "import pandas as pd\n",
        "from tqdm import tqdm\n",
        "\n",
        "# Replace with your list of wallet addresses\n",
        "wallets = [\n",
        "    '0xfaa0768bde629806739c3a4620656c5d26f44ef2',\n",
        "    # Add more addresses here\n",
        "]\n",
        "\n",
        "# Compound V2 Subgraph API\n",
        "COMPOUND_V2_SUBGRAPH = \"https://api.thegraph.com/subgraphs/name/graphprotocol/compound-v2\"\n",
        "\n",
        "# GraphQL Query Template\n",
        "def make_query(wallet):\n",
        "    return {\n",
        "        \"query\": \"\"\"\n",
        "        {\n",
        "          account(id: \"%s\") {\n",
        "            id\n",
        "            tokens {\n",
        "              symbol\n",
        "              supplyBalanceUnderlying\n",
        "              borrowBalanceUnderlying\n",
        "              lifetimeBorrowInterestAccrued\n",
        "              lifetimeSupplyInterestAccrued\n",
        "              enteredMarket\n",
        "            }\n",
        "          }\n",
        "        }\n",
        "        \"\"\" % wallet.lower()\n",
        "    }\n",
        "\n",
        "# Fetch data\n",
        "def fetch_wallet_data(wallets):\n",
        "    records = []\n",
        "    for wallet in tqdm(wallets):\n",
        "        res = requests.post(COMPOUND_V2_SUBGRAPH, json=make_query(wallet))\n",
        "        data = res.json()\n",
        "        tokens = data.get(\"data\", {}).get(\"account\", {}).get(\"tokens\", [])\n",
        "        for t in tokens:\n",
        "            records.append({\n",
        "                \"wallet\": wallet,\n",
        "                \"symbol\": t['symbol'],\n",
        "                \"supply\": float(t['supplyBalanceUnderlying'] or 0),\n",
        "                \"borrow\": float(t['borrowBalanceUnderlying'] or 0),\n",
        "                \"interest_borrowed\": float(t['lifetimeBorrowInterestAccrued'] or 0),\n",
        "                \"interest_supplied\": float(t['lifetimeSupplyInterestAccrued'] or 0),\n",
        "                \"entered_market\": t['enteredMarket']\n",
        "            })\n",
        "    return pd.DataFrame(records)\n",
        "\n",
        "df_raw = fetch_wallet_data(wallets)\n",
        "df_raw.head()\n"
      ],
      "metadata": {
        "id": "vub9ag1fze-z"
      },
      "execution_count": null,
      "outputs": []
    },
    {
      "cell_type": "markdown",
      "source": [
        "***Trying AaveV2***"
      ],
      "metadata": {
        "id": "v53obNOMy1sT"
      }
    },
    {
      "cell_type": "code",
      "source": [
        "import requests\n",
        "from tqdm import tqdm\n",
        "\n",
        "AAVE_V2_SUBGRAPH = \"https://api.thegraph.com/subgraphs/name/aave/protocol-v2\"\n",
        "\n",
        "def build_aave_query(wallet):\n",
        "    return {\n",
        "        \"query\": f\"\"\"\n",
        "        {{\n",
        "          userReserves(where: {{ user: \"{wallet}\" }}) {{\n",
        "            user\n",
        "            reserve {{\n",
        "              symbol\n",
        "            }}\n",
        "            currentTotalDebt\n",
        "            currentATokenBalance\n",
        "            usageAsCollateralEnabledOnUser\n",
        "          }}\n",
        "        }}\n",
        "        \"\"\"\n",
        "    }\n",
        "\n",
        "def fetch_aave_data(wallets):\n",
        "    records = []\n",
        "    for wallet in tqdm(wallets):\n",
        "        try:\n",
        "            res = requests.post(AAVE_V2_SUBGRAPH, json=build_aave_query(wallet))\n",
        "            data = res.json()\n",
        "            for entry in data['data']['userReserves']:\n",
        "                records.append({\n",
        "                    \"wallet\": wallet,\n",
        "                    \"symbol\": entry[\"reserve\"][\"symbol\"],\n",
        "                    \"debt\": float(entry[\"currentTotalDebt\"]),\n",
        "                    \"supply\": float(entry[\"currentATokenBalance\"]),\n",
        "                    \"collateral_enabled\": entry[\"usageAsCollateralEnabledOnUser\"]\n",
        "                })\n",
        "        except Exception as e:\n",
        "            print(f\"Failed for wallet {wallet}: {e}\")\n",
        "    return pd.DataFrame(records)\n",
        "\n",
        "aave_df = fetch_aave_data(wallets)\n",
        "aave_df.to_csv(\"aave_user_data.csv\", index=False)\n"
      ],
      "metadata": {
        "colab": {
          "base_uri": "https://localhost:8080/"
        },
        "collapsed": true,
        "id": "wDFw6P_Tp09y",
        "outputId": "32fea88e-ba56-41a1-d9ac-12135b1344ee"
      },
      "execution_count": 21,
      "outputs": [
        {
          "output_type": "stream",
          "name": "stderr",
          "text": [
            "  2%|▏         | 2/103 [00:00<00:12,  8.17it/s]"
          ]
        },
        {
          "output_type": "stream",
          "name": "stdout",
          "text": [
            "Failed for wallet 0x0039f22efb07a647557c7c5d17854cfd6d489ef3: 'data'\n",
            "Failed for wallet 0x06b51c6882b27cb05e712185531c1f74996dd988: 'data'\n"
          ]
        },
        {
          "output_type": "stream",
          "name": "stderr",
          "text": [
            "  4%|▍         | 4/103 [00:00<00:11,  8.62it/s]"
          ]
        },
        {
          "output_type": "stream",
          "name": "stdout",
          "text": [
            "Failed for wallet 0x0795732aacc448030ef374374eaae57d2965c16c: 'data'\n",
            "Failed for wallet 0x0aaa79f1a86bc8136cd0d1ca0d51964f4e3766f9: 'data'\n"
          ]
        },
        {
          "output_type": "stream",
          "name": "stderr",
          "text": [
            "  6%|▌         | 6/103 [00:00<00:10,  8.91it/s]"
          ]
        },
        {
          "output_type": "stream",
          "name": "stdout",
          "text": [
            "Failed for wallet 0x0fe383e5abc200055a7f391f94a5f5d1f844b9ae: 'data'\n",
            "Failed for wallet 0x104ae61d8d487ad689969a17807ddc338b445416: 'data'\n"
          ]
        },
        {
          "output_type": "stream",
          "name": "stderr",
          "text": [
            "  8%|▊         | 8/103 [00:00<00:10,  8.77it/s]"
          ]
        },
        {
          "output_type": "stream",
          "name": "stdout",
          "text": [
            "Failed for wallet 0x111c7208a7e2af345d36b6d4aace8740d61a3078: 'data'\n",
            "Failed for wallet 0x124853fecb522c57d9bd5c21231058696ca6d596: 'data'\n"
          ]
        },
        {
          "output_type": "stream",
          "name": "stderr",
          "text": [
            " 10%|▉         | 10/103 [00:01<00:10,  8.95it/s]"
          ]
        },
        {
          "output_type": "stream",
          "name": "stdout",
          "text": [
            "Failed for wallet 0x13b1c8b0e696aff8b4fee742119b549b605f3cbc: 'data'\n",
            "Failed for wallet 0x1656f1886c5ab634ac19568cd571bc72f385fdf7: 'data'\n"
          ]
        },
        {
          "output_type": "stream",
          "name": "stderr",
          "text": [
            " 12%|█▏        | 12/103 [00:01<00:09,  9.10it/s]"
          ]
        },
        {
          "output_type": "stream",
          "name": "stdout",
          "text": [
            "Failed for wallet 0x1724e16cb8d0e2aa4d08035bc6b5c56b680a3b22: 'data'\n",
            "Failed for wallet 0x19df3e87f73c4aaf4809295561465b993e102668: 'data'\n"
          ]
        },
        {
          "output_type": "stream",
          "name": "stderr",
          "text": [
            " 14%|█▎        | 14/103 [00:01<00:10,  8.78it/s]"
          ]
        },
        {
          "output_type": "stream",
          "name": "stdout",
          "text": [
            "Failed for wallet 0x1ab2ccad4fc97c9968ea87d4435326715be32872: 'data'\n",
            "Failed for wallet 0x1c1b30ca93ef57452d53885d97a74f61daf2bf4f: 'data'\n"
          ]
        },
        {
          "output_type": "stream",
          "name": "stderr",
          "text": [
            " 16%|█▌        | 16/103 [00:01<00:09,  8.95it/s]"
          ]
        },
        {
          "output_type": "stream",
          "name": "stdout",
          "text": [
            "Failed for wallet 0x1e43dacdcf863676a6bec8f7d6896d6252fac669: 'data'\n",
            "Failed for wallet 0x22d7510588d90ed5a87e0f838391aaafa707c34b: 'data'\n"
          ]
        },
        {
          "output_type": "stream",
          "name": "stderr",
          "text": [
            " 17%|█▋        | 18/103 [00:02<00:09,  9.30it/s]"
          ]
        },
        {
          "output_type": "stream",
          "name": "stdout",
          "text": [
            "Failed for wallet 0x24b3460622d835c56d9a4fe352966b9bdc6c20af: 'data'\n",
            "Failed for wallet 0x26750f1f4277221bdb5f6991473c6ece8c821f9d: 'data'\n"
          ]
        },
        {
          "output_type": "stream",
          "name": "stderr",
          "text": [
            " 19%|█▉        | 20/103 [00:02<00:08,  9.24it/s]"
          ]
        },
        {
          "output_type": "stream",
          "name": "stdout",
          "text": [
            "Failed for wallet 0x27f72a000d8e9f324583f3a3491ea66998275b28: 'data'\n",
            "Failed for wallet 0x2844658bf341db96aa247259824f42025e3bcec2: 'data'\n"
          ]
        },
        {
          "output_type": "stream",
          "name": "stderr",
          "text": [
            " 21%|██▏       | 22/103 [00:02<00:08,  9.25it/s]"
          ]
        },
        {
          "output_type": "stream",
          "name": "stdout",
          "text": [
            "Failed for wallet 0x2a2fde3e1beb508fcf7c137a1d5965f13a17825e: 'data'\n",
            "Failed for wallet 0x330513970efd9e8dd606275fb4c50378989b3204: 'data'\n"
          ]
        },
        {
          "output_type": "stream",
          "name": "stderr",
          "text": [
            " 23%|██▎       | 24/103 [00:02<00:08,  9.21it/s]"
          ]
        },
        {
          "output_type": "stream",
          "name": "stdout",
          "text": [
            "Failed for wallet 0x3361bea43c2f5f963f81ac70f64e6fba1f1d2a97: 'data'\n",
            "Failed for wallet 0x3867d222ba91236ad4d12c31056626f9e798629c: 'data'\n"
          ]
        },
        {
          "output_type": "stream",
          "name": "stderr",
          "text": [
            " 25%|██▌       | 26/103 [00:02<00:08,  9.31it/s]"
          ]
        },
        {
          "output_type": "stream",
          "name": "stdout",
          "text": [
            "Failed for wallet 0x3a44be4581137019f83021eeee72b7dc57756069: 'data'\n",
            "Failed for wallet 0x3e69ad05716bdc834db72c4d6d44439a7c8a902b: 'data'\n"
          ]
        },
        {
          "output_type": "stream",
          "name": "stderr",
          "text": [
            " 27%|██▋       | 28/103 [00:03<00:07,  9.44it/s]"
          ]
        },
        {
          "output_type": "stream",
          "name": "stdout",
          "text": [
            "Failed for wallet 0x427f2ac5fdf4245e027d767e7c3ac272a1f40a65: 'data'\n",
            "Failed for wallet 0x4814be124d7fe3b240eb46061f7ddfab468fe122: 'data'\n"
          ]
        },
        {
          "output_type": "stream",
          "name": "stderr",
          "text": [
            " 29%|██▉       | 30/103 [00:03<00:07,  9.30it/s]"
          ]
        },
        {
          "output_type": "stream",
          "name": "stdout",
          "text": [
            "Failed for wallet 0x4839e666e2baf12a51bf004392b35972eeddeabf: 'data'\n",
            "Failed for wallet 0x4c4d05fe859279c91b074429b5fc451182cec745: 'data'\n"
          ]
        },
        {
          "output_type": "stream",
          "name": "stderr",
          "text": [
            " 31%|███       | 32/103 [00:03<00:07,  9.24it/s]"
          ]
        },
        {
          "output_type": "stream",
          "name": "stdout",
          "text": [
            "Failed for wallet 0x4d997c89bc659a3e8452038a8101161e7e7e53a7: 'data'\n",
            "Failed for wallet 0x4db0a72edb5ea6c55df929f76e7d5bb14e389860: 'data'\n"
          ]
        },
        {
          "output_type": "stream",
          "name": "stderr",
          "text": [
            " 33%|███▎      | 34/103 [00:03<00:07,  9.31it/s]"
          ]
        },
        {
          "output_type": "stream",
          "name": "stdout",
          "text": [
            "Failed for wallet 0x4e61251336c32e4fe6bfd5fab014846599321389: 'data'\n",
            "Failed for wallet 0x4e6e724f4163b24ffc7ffe662b5f6815b18b4210: 'data'\n"
          ]
        },
        {
          "output_type": "stream",
          "name": "stderr",
          "text": [
            " 35%|███▍      | 36/103 [00:03<00:07,  9.08it/s]"
          ]
        },
        {
          "output_type": "stream",
          "name": "stdout",
          "text": [
            "Failed for wallet 0x507b6c0d950702f066a9a1bd5e85206f87b065ba: 'data'\n",
            "Failed for wallet 0x54e19653be9d4143b08994906be0e27555e8834d: 'data'\n"
          ]
        },
        {
          "output_type": "stream",
          "name": "stderr",
          "text": [
            " 37%|███▋      | 38/103 [00:04<00:07,  9.13it/s]"
          ]
        },
        {
          "output_type": "stream",
          "name": "stdout",
          "text": [
            "Failed for wallet 0x56ba823641bfc317afc8459bf27feed6eb9ff59f: 'data'\n",
            "Failed for wallet 0x56cc2bffcb3f86a30c492f9d1a671a1f744d1d2f: 'data'\n"
          ]
        },
        {
          "output_type": "stream",
          "name": "stderr",
          "text": [
            " 39%|███▉      | 40/103 [00:04<00:06,  9.26it/s]"
          ]
        },
        {
          "output_type": "stream",
          "name": "stdout",
          "text": [
            "Failed for wallet 0x578cea5f899b0dfbf05c7fbcfda1a644b2a47787: 'data'\n",
            "Failed for wallet 0x58c2a9099a03750e9842d3e9a7780cdd6aa70b86: 'data'\n"
          ]
        },
        {
          "output_type": "stream",
          "name": "stderr",
          "text": [
            " 41%|████      | 42/103 [00:04<00:06,  9.14it/s]"
          ]
        },
        {
          "output_type": "stream",
          "name": "stdout",
          "text": [
            "Failed for wallet 0x58d68d4bcf9725e40353379cec92b90332561683: 'data'\n",
            "Failed for wallet 0x5e324b4a564512ea7c93088dba2f8c1bf046a3eb: 'data'\n"
          ]
        },
        {
          "output_type": "stream",
          "name": "stderr",
          "text": [
            " 43%|████▎     | 44/103 [00:04<00:06,  9.21it/s]"
          ]
        },
        {
          "output_type": "stream",
          "name": "stdout",
          "text": [
            "Failed for wallet 0x612a3500559be7be7703de6dc397afb541a16f7f: 'data'\n",
            "Failed for wallet 0x623af911f493747c216ad389c7805a37019c662d: 'data'\n"
          ]
        },
        {
          "output_type": "stream",
          "name": "stderr",
          "text": [
            " 45%|████▍     | 46/103 [00:05<00:06,  9.28it/s]"
          ]
        },
        {
          "output_type": "stream",
          "name": "stdout",
          "text": [
            "Failed for wallet 0x6a2752a534faacaaa153bffbb973dd84e0e5497b: 'data'\n",
            "Failed for wallet 0x6d69ca3711e504658977367e13c300ab198379f1: 'data'\n"
          ]
        },
        {
          "output_type": "stream",
          "name": "stderr",
          "text": [
            " 47%|████▋     | 48/103 [00:05<00:05,  9.45it/s]"
          ]
        },
        {
          "output_type": "stream",
          "name": "stdout",
          "text": [
            "Failed for wallet 0x6e355417f7f56e7927d1cd971f0b5a1e6d538487: 'data'\n",
            "Failed for wallet 0x70c1864282599a762c674dd9d567b37e13bce755: 'data'\n"
          ]
        },
        {
          "output_type": "stream",
          "name": "stderr",
          "text": [
            " 49%|████▊     | 50/103 [00:05<00:05,  9.34it/s]"
          ]
        },
        {
          "output_type": "stream",
          "name": "stdout",
          "text": [
            "Failed for wallet 0x70d8e4ab175dfe0eab4e9a7f33e0a2d19f44001e: 'data'\n",
            "Failed for wallet 0x7399dbeebe2f88bc6ac4e3fd7ddb836a4bce322f: 'data'\n"
          ]
        },
        {
          "output_type": "stream",
          "name": "stderr",
          "text": [
            " 50%|█████     | 52/103 [00:05<00:05,  9.15it/s]"
          ]
        },
        {
          "output_type": "stream",
          "name": "stdout",
          "text": [
            "Failed for wallet 0x767055590c73b7d2aaa6219da13807c493f91a20: 'data'\n",
            "Failed for wallet 0x7851bdfb64bbecfb40c030d722a1f147dff5db6a: 'data'\n"
          ]
        },
        {
          "output_type": "stream",
          "name": "stderr",
          "text": [
            " 52%|█████▏    | 54/103 [00:05<00:05,  9.31it/s]"
          ]
        },
        {
          "output_type": "stream",
          "name": "stdout",
          "text": [
            "Failed for wallet 0x7b4636320daa0bc055368a4f9b9d01bd8ac51877: 'data'\n",
            "Failed for wallet 0x7b57dbe2f2e4912a29754ff3e412ed9507fd8957: 'data'\n"
          ]
        },
        {
          "output_type": "stream",
          "name": "stderr",
          "text": [
            " 54%|█████▍    | 56/103 [00:06<00:05,  8.85it/s]"
          ]
        },
        {
          "output_type": "stream",
          "name": "stdout",
          "text": [
            "Failed for wallet 0x7be3dfb5b6fcbae542ea85e76cc19916a20f6c1e: 'data'\n",
            "Failed for wallet 0x7de76a449cf60ea3e111ff18b28e516d89532152: 'data'\n"
          ]
        },
        {
          "output_type": "stream",
          "name": "stderr",
          "text": [
            " 56%|█████▋    | 58/103 [00:06<00:05,  9.00it/s]"
          ]
        },
        {
          "output_type": "stream",
          "name": "stdout",
          "text": [
            "Failed for wallet 0x7e3eab408b9c76a13305ef34606f17c16f7b33cc: 'data'\n",
            "Failed for wallet 0x7f5e6a28afc9fb0aaf4259d4ff69991b88ebea47: 'data'\n"
          ]
        },
        {
          "output_type": "stream",
          "name": "stderr",
          "text": [
            " 58%|█████▊    | 60/103 [00:06<00:04,  9.05it/s]"
          ]
        },
        {
          "output_type": "stream",
          "name": "stdout",
          "text": [
            "Failed for wallet 0x83ea74c67d393c6894c34c464657bda2183a2f1a: 'data'\n",
            "Failed for wallet 0x8441fecef5cc6f697be2c4fc4a36feacede8df67: 'data'\n"
          ]
        },
        {
          "output_type": "stream",
          "name": "stderr",
          "text": [
            " 60%|██████    | 62/103 [00:06<00:04,  9.09it/s]"
          ]
        },
        {
          "output_type": "stream",
          "name": "stdout",
          "text": [
            "Failed for wallet 0x854a873b8f9bfac36a5eb9c648e285a095a7478d: 'data'\n",
            "Failed for wallet 0x8587d9f794f06d976c2ec1cfd523983b856f5ca9: 'data'\n"
          ]
        },
        {
          "output_type": "stream",
          "name": "stderr",
          "text": [
            " 62%|██████▏   | 64/103 [00:07<00:04,  9.38it/s]"
          ]
        },
        {
          "output_type": "stream",
          "name": "stdout",
          "text": [
            "Failed for wallet 0x880a0af12da55df1197f41697c1a1b61670ed410: 'data'\n",
            "Failed for wallet 0x8aaece100580b749a20f8ce30338c4e0770b65ed: 'data'\n"
          ]
        },
        {
          "output_type": "stream",
          "name": "stderr",
          "text": [
            " 64%|██████▍   | 66/103 [00:07<00:04,  9.18it/s]"
          ]
        },
        {
          "output_type": "stream",
          "name": "stdout",
          "text": [
            "Failed for wallet 0x8be38ea2b22b706aef313c2de81f7d179024dd30: 'data'\n",
            "Failed for wallet 0x8d900f213db5205c529aaba5d10e71a0ed2646db: 'data'\n"
          ]
        },
        {
          "output_type": "stream",
          "name": "stderr",
          "text": [
            " 66%|██████▌   | 68/103 [00:07<00:03,  8.82it/s]"
          ]
        },
        {
          "output_type": "stream",
          "name": "stdout",
          "text": [
            "Failed for wallet 0x91919344c1dad09772d19ad8ad4f1bcd29c51f27: 'data'\n",
            "Failed for wallet 0x93f0891bf71d8abed78e0de0885bd26355bb8b1d: 'data'\n"
          ]
        },
        {
          "output_type": "stream",
          "name": "stderr",
          "text": [
            " 68%|██████▊   | 70/103 [00:07<00:03,  9.11it/s]"
          ]
        },
        {
          "output_type": "stream",
          "name": "stdout",
          "text": [
            "Failed for wallet 0x96479b087cb8f236a5e2dcbfc50ce63b2f421da6: 'data'\n",
            "Failed for wallet 0x96bb4447a02b95f1d1e85374cffd565eb22ed2f8: 'data'\n"
          ]
        },
        {
          "output_type": "stream",
          "name": "stderr",
          "text": [
            " 70%|██████▉   | 72/103 [00:07<00:03,  9.05it/s]"
          ]
        },
        {
          "output_type": "stream",
          "name": "stdout",
          "text": [
            "Failed for wallet 0x9a363adc5d382c04d36b09158286328f75672098: 'data'\n",
            "Failed for wallet 0x9ad1331c5b6c5a641acffb32719c66a80c6e1a17: 'data'\n"
          ]
        },
        {
          "output_type": "stream",
          "name": "stderr",
          "text": [
            " 72%|███████▏  | 74/103 [00:08<00:03,  9.32it/s]"
          ]
        },
        {
          "output_type": "stream",
          "name": "stdout",
          "text": [
            "Failed for wallet 0x9ba0d85f71e145ccf15225e59631e5a883d5d74a: 'data'\n",
            "Failed for wallet 0x9e6ec4e98793970a1307262ba68d37594e58cd78: 'data'\n"
          ]
        },
        {
          "output_type": "stream",
          "name": "stderr",
          "text": [
            " 74%|███████▍  | 76/103 [00:08<00:02,  9.54it/s]"
          ]
        },
        {
          "output_type": "stream",
          "name": "stdout",
          "text": [
            "Failed for wallet 0xa7e94d933eb0c439dda357f61244a485246e97b8: 'data'\n",
            "Failed for wallet 0xa7f3c74f0255796fd5d3ddcf88db769f7a6bf46a: 'data'\n"
          ]
        },
        {
          "output_type": "stream",
          "name": "stderr",
          "text": [
            " 76%|███████▌  | 78/103 [00:08<00:02,  9.16it/s]"
          ]
        },
        {
          "output_type": "stream",
          "name": "stdout",
          "text": [
            "Failed for wallet 0xa98dc64bb42575efec7d1e4560c029231ce5da51: 'data'\n",
            "Failed for wallet 0xb271ff7090b39028eb6e711c3f89a3453d5861ee: 'data'\n"
          ]
        },
        {
          "output_type": "stream",
          "name": "stderr",
          "text": [
            " 78%|███████▊  | 80/103 [00:08<00:02,  9.26it/s]"
          ]
        },
        {
          "output_type": "stream",
          "name": "stdout",
          "text": [
            "Failed for wallet 0xb475576594ae44e1f75f534f993cbb7673e4c8b6: 'data'\n",
            "Failed for wallet 0xb57297c5d02def954794e593db93d0a302e43e5c: 'data'\n"
          ]
        },
        {
          "output_type": "stream",
          "name": "stderr",
          "text": [
            "\r 79%|███████▊  | 81/103 [00:08<00:02,  9.27it/s]"
          ]
        },
        {
          "output_type": "stream",
          "name": "stdout",
          "text": [
            "Failed for wallet 0xbd4a00764217c13a246f86db58d74541a0c3972a: 'data'\n",
            "Failed for wallet 0xc179d55f7e00e789915760f7d260a1bf6285278b: 'data'\n"
          ]
        },
        {
          "output_type": "stream",
          "name": "stderr",
          "text": [
            " 82%|████████▏ | 84/103 [00:09<00:02,  9.06it/s]"
          ]
        },
        {
          "output_type": "stream",
          "name": "stdout",
          "text": [
            "Failed for wallet 0xc22b8e78394ce52e0034609a67ae3c959daa84bc: 'data'\n",
            "Failed for wallet 0xcbbd9fe837a14258286bbf2e182cbc4e4518c5a3: 'data'\n"
          ]
        },
        {
          "output_type": "stream",
          "name": "stderr",
          "text": [
            " 83%|████████▎ | 86/103 [00:09<00:01,  9.18it/s]"
          ]
        },
        {
          "output_type": "stream",
          "name": "stdout",
          "text": [
            "Failed for wallet 0xcecf5163bb057c1aff4963d9b9a7d2f0bf591710: 'data'\n",
            "Failed for wallet 0xcf0033bf27804640e5339e06443e208db5870dd2: 'data'\n"
          ]
        },
        {
          "output_type": "stream",
          "name": "stderr",
          "text": [
            " 85%|████████▌ | 88/103 [00:09<00:01,  9.29it/s]"
          ]
        },
        {
          "output_type": "stream",
          "name": "stdout",
          "text": [
            "Failed for wallet 0xd0df53e296c1e3115fccc3d7cdf4ba495e593b56: 'data'\n",
            "Failed for wallet 0xd1a3888fd8f490367c6104e10b4154427c02dd9c: 'data'\n"
          ]
        },
        {
          "output_type": "stream",
          "name": "stderr",
          "text": [
            " 87%|████████▋ | 90/103 [00:09<00:01,  9.43it/s]"
          ]
        },
        {
          "output_type": "stream",
          "name": "stdout",
          "text": [
            "Failed for wallet 0xd334d18fa6bada9a10f361bae42a019ce88a3c33: 'data'\n",
            "Failed for wallet 0xd9d3930ffa343f5a0eec7606d045d0843d3a02b4: 'data'\n"
          ]
        },
        {
          "output_type": "stream",
          "name": "stderr",
          "text": [
            " 89%|████████▉ | 92/103 [00:10<00:01,  9.28it/s]"
          ]
        },
        {
          "output_type": "stream",
          "name": "stdout",
          "text": [
            "Failed for wallet 0xdde73df7bd4d704a89ad8421402701b3a460c6e9: 'data'\n",
            "Failed for wallet 0xde92d70253604fd8c5998c8ee3ed282a41b33b7f: 'data'\n"
          ]
        },
        {
          "output_type": "stream",
          "name": "stderr",
          "text": [
            " 91%|█████████▏| 94/103 [00:10<00:00,  9.26it/s]"
          ]
        },
        {
          "output_type": "stream",
          "name": "stdout",
          "text": [
            "Failed for wallet 0xded1f838ae6aa5fcd0f13481b37ee88e5bdccb3d: 'data'\n",
            "Failed for wallet 0xebb8629e8a3ec86cf90cb7600264415640834483: 'data'\n"
          ]
        },
        {
          "output_type": "stream",
          "name": "stderr",
          "text": [
            " 93%|█████████▎| 96/103 [00:10<00:00,  8.97it/s]"
          ]
        },
        {
          "output_type": "stream",
          "name": "stdout",
          "text": [
            "Failed for wallet 0xeded1c8c0a0c532195b8432153f3bfa81dba2a90: 'data'\n",
            "Failed for wallet 0xf10fd8921019615a856c1e95c7cd3632de34edc4: 'data'\n"
          ]
        },
        {
          "output_type": "stream",
          "name": "stderr",
          "text": [
            "\r 94%|█████████▍| 97/103 [00:10<00:00,  8.97it/s]"
          ]
        },
        {
          "output_type": "stream",
          "name": "stdout",
          "text": [
            "Failed for wallet 0xf340b9f2098f80b86fbc5ede586c319473aa11f3: 'data'\n",
            "Failed for wallet 0xf54f36bca969800fd7d63a68029561309938c09b: 'data'\n"
          ]
        },
        {
          "output_type": "stream",
          "name": "stderr",
          "text": [
            " 97%|█████████▋| 100/103 [00:10<00:00,  9.24it/s]"
          ]
        },
        {
          "output_type": "stream",
          "name": "stdout",
          "text": [
            "Failed for wallet 0xf60304b534f74977e159b2e159e135475c245526: 'data'\n",
            "Failed for wallet 0xf67e8e5805835465f7eba988259db882ab726800: 'data'\n"
          ]
        },
        {
          "output_type": "stream",
          "name": "stderr",
          "text": [
            " 99%|█████████▉| 102/103 [00:11<00:00,  9.19it/s]"
          ]
        },
        {
          "output_type": "stream",
          "name": "stdout",
          "text": [
            "Failed for wallet 0xf7aa5d0752cfcd41b0a5945867d619a80c405e52: 'data'\n",
            "Failed for wallet 0xf80a8b9cfff0febf49914c269fb8aead4a22f847: 'data'\n"
          ]
        },
        {
          "output_type": "stream",
          "name": "stderr",
          "text": [
            "100%|██████████| 103/103 [00:11<00:00,  9.14it/s]"
          ]
        },
        {
          "output_type": "stream",
          "name": "stdout",
          "text": [
            "Failed for wallet 0xfe5a05c0f8b24fca15a7306f6a4ebb7dcf2186ac: 'data'\n"
          ]
        },
        {
          "output_type": "stream",
          "name": "stderr",
          "text": [
            "\n"
          ]
        }
      ]
    },
    {
      "cell_type": "code",
      "source": [
        "aave_df = fetch_aave_data(wallets)\n",
        "aave_df.to_csv(\"aave_user_data.csv\", index=False)\n"
      ],
      "metadata": {
        "colab": {
          "base_uri": "https://localhost:8080/"
        },
        "collapsed": true,
        "id": "3Z2kxS54qUTt",
        "outputId": "6226c821-aca5-4d44-ecea-0de0edc6ffe3"
      },
      "execution_count": 22,
      "outputs": [
        {
          "output_type": "stream",
          "name": "stderr",
          "text": [
            "  2%|▏         | 2/103 [00:00<00:12,  8.22it/s]"
          ]
        },
        {
          "output_type": "stream",
          "name": "stdout",
          "text": [
            "Failed for wallet 0x0039f22efb07a647557c7c5d17854cfd6d489ef3: 'data'\n",
            "Failed for wallet 0x06b51c6882b27cb05e712185531c1f74996dd988: 'data'\n"
          ]
        },
        {
          "output_type": "stream",
          "name": "stderr",
          "text": [
            "  4%|▍         | 4/103 [00:00<00:10,  9.12it/s]"
          ]
        },
        {
          "output_type": "stream",
          "name": "stdout",
          "text": [
            "Failed for wallet 0x0795732aacc448030ef374374eaae57d2965c16c: 'data'\n",
            "Failed for wallet 0x0aaa79f1a86bc8136cd0d1ca0d51964f4e3766f9: 'data'\n"
          ]
        },
        {
          "output_type": "stream",
          "name": "stderr",
          "text": [
            "  6%|▌         | 6/103 [00:00<00:10,  8.94it/s]"
          ]
        },
        {
          "output_type": "stream",
          "name": "stdout",
          "text": [
            "Failed for wallet 0x0fe383e5abc200055a7f391f94a5f5d1f844b9ae: 'data'\n",
            "Failed for wallet 0x104ae61d8d487ad689969a17807ddc338b445416: 'data'\n"
          ]
        },
        {
          "output_type": "stream",
          "name": "stderr",
          "text": [
            "\r  8%|▊         | 8/103 [00:00<00:10,  9.24it/s]"
          ]
        },
        {
          "output_type": "stream",
          "name": "stdout",
          "text": [
            "Failed for wallet 0x111c7208a7e2af345d36b6d4aace8740d61a3078: 'data'\n",
            "Failed for wallet 0x124853fecb522c57d9bd5c21231058696ca6d596: 'data'\n"
          ]
        },
        {
          "output_type": "stream",
          "name": "stderr",
          "text": [
            " 10%|▉         | 10/103 [00:01<00:10,  9.06it/s]"
          ]
        },
        {
          "output_type": "stream",
          "name": "stdout",
          "text": [
            "Failed for wallet 0x13b1c8b0e696aff8b4fee742119b549b605f3cbc: 'data'\n",
            "Failed for wallet 0x1656f1886c5ab634ac19568cd571bc72f385fdf7: 'data'\n"
          ]
        },
        {
          "output_type": "stream",
          "name": "stderr",
          "text": [
            " 12%|█▏        | 12/103 [00:01<00:09,  9.13it/s]"
          ]
        },
        {
          "output_type": "stream",
          "name": "stdout",
          "text": [
            "Failed for wallet 0x1724e16cb8d0e2aa4d08035bc6b5c56b680a3b22: 'data'\n",
            "Failed for wallet 0x19df3e87f73c4aaf4809295561465b993e102668: 'data'\n"
          ]
        },
        {
          "output_type": "stream",
          "name": "stderr",
          "text": [
            " 14%|█▎        | 14/103 [00:01<00:09,  9.33it/s]"
          ]
        },
        {
          "output_type": "stream",
          "name": "stdout",
          "text": [
            "Failed for wallet 0x1ab2ccad4fc97c9968ea87d4435326715be32872: 'data'\n",
            "Failed for wallet 0x1c1b30ca93ef57452d53885d97a74f61daf2bf4f: 'data'\n"
          ]
        },
        {
          "output_type": "stream",
          "name": "stderr",
          "text": [
            "\r 15%|█▍        | 15/103 [00:01<00:09,  9.26it/s]"
          ]
        },
        {
          "output_type": "stream",
          "name": "stdout",
          "text": [
            "Failed for wallet 0x1e43dacdcf863676a6bec8f7d6896d6252fac669: 'data'\n",
            "Failed for wallet 0x22d7510588d90ed5a87e0f838391aaafa707c34b: 'data'\n"
          ]
        },
        {
          "output_type": "stream",
          "name": "stderr",
          "text": [
            " 17%|█▋        | 18/103 [00:01<00:09,  9.30it/s]"
          ]
        },
        {
          "output_type": "stream",
          "name": "stdout",
          "text": [
            "Failed for wallet 0x24b3460622d835c56d9a4fe352966b9bdc6c20af: 'data'\n",
            "Failed for wallet 0x26750f1f4277221bdb5f6991473c6ece8c821f9d: 'data'\n"
          ]
        },
        {
          "output_type": "stream",
          "name": "stderr",
          "text": [
            " 19%|█▉        | 20/103 [00:02<00:08,  9.24it/s]"
          ]
        },
        {
          "output_type": "stream",
          "name": "stdout",
          "text": [
            "Failed for wallet 0x27f72a000d8e9f324583f3a3491ea66998275b28: 'data'\n",
            "Failed for wallet 0x2844658bf341db96aa247259824f42025e3bcec2: 'data'\n"
          ]
        },
        {
          "output_type": "stream",
          "name": "stderr",
          "text": [
            " 21%|██▏       | 22/103 [00:02<00:08,  9.14it/s]"
          ]
        },
        {
          "output_type": "stream",
          "name": "stdout",
          "text": [
            "Failed for wallet 0x2a2fde3e1beb508fcf7c137a1d5965f13a17825e: 'data'\n",
            "Failed for wallet 0x330513970efd9e8dd606275fb4c50378989b3204: 'data'\n"
          ]
        },
        {
          "output_type": "stream",
          "name": "stderr",
          "text": [
            " 23%|██▎       | 24/103 [00:02<00:08,  9.32it/s]"
          ]
        },
        {
          "output_type": "stream",
          "name": "stdout",
          "text": [
            "Failed for wallet 0x3361bea43c2f5f963f81ac70f64e6fba1f1d2a97: 'data'\n",
            "Failed for wallet 0x3867d222ba91236ad4d12c31056626f9e798629c: 'data'\n"
          ]
        },
        {
          "output_type": "stream",
          "name": "stderr",
          "text": [
            " 25%|██▌       | 26/103 [00:02<00:08,  9.09it/s]"
          ]
        },
        {
          "output_type": "stream",
          "name": "stdout",
          "text": [
            "Failed for wallet 0x3a44be4581137019f83021eeee72b7dc57756069: 'data'\n",
            "Failed for wallet 0x3e69ad05716bdc834db72c4d6d44439a7c8a902b: 'data'\n"
          ]
        },
        {
          "output_type": "stream",
          "name": "stderr",
          "text": [
            " 27%|██▋       | 28/103 [00:03<00:08,  9.25it/s]"
          ]
        },
        {
          "output_type": "stream",
          "name": "stdout",
          "text": [
            "Failed for wallet 0x427f2ac5fdf4245e027d767e7c3ac272a1f40a65: 'data'\n",
            "Failed for wallet 0x4814be124d7fe3b240eb46061f7ddfab468fe122: 'data'\n"
          ]
        },
        {
          "output_type": "stream",
          "name": "stderr",
          "text": [
            " 29%|██▉       | 30/103 [00:03<00:07,  9.44it/s]"
          ]
        },
        {
          "output_type": "stream",
          "name": "stdout",
          "text": [
            "Failed for wallet 0x4839e666e2baf12a51bf004392b35972eeddeabf: 'data'\n",
            "Failed for wallet 0x4c4d05fe859279c91b074429b5fc451182cec745: 'data'\n"
          ]
        },
        {
          "output_type": "stream",
          "name": "stderr",
          "text": [
            " 31%|███       | 32/103 [00:03<00:07,  9.35it/s]"
          ]
        },
        {
          "output_type": "stream",
          "name": "stdout",
          "text": [
            "Failed for wallet 0x4d997c89bc659a3e8452038a8101161e7e7e53a7: 'data'\n",
            "Failed for wallet 0x4db0a72edb5ea6c55df929f76e7d5bb14e389860: 'data'\n"
          ]
        },
        {
          "output_type": "stream",
          "name": "stderr",
          "text": [
            " 33%|███▎      | 34/103 [00:03<00:07,  9.21it/s]"
          ]
        },
        {
          "output_type": "stream",
          "name": "stdout",
          "text": [
            "Failed for wallet 0x4e61251336c32e4fe6bfd5fab014846599321389: 'data'\n",
            "Failed for wallet 0x4e6e724f4163b24ffc7ffe662b5f6815b18b4210: 'data'\n"
          ]
        },
        {
          "output_type": "stream",
          "name": "stderr",
          "text": [
            " 35%|███▍      | 36/103 [00:03<00:07,  9.29it/s]"
          ]
        },
        {
          "output_type": "stream",
          "name": "stdout",
          "text": [
            "Failed for wallet 0x507b6c0d950702f066a9a1bd5e85206f87b065ba: 'data'\n",
            "Failed for wallet 0x54e19653be9d4143b08994906be0e27555e8834d: 'data'\n"
          ]
        },
        {
          "output_type": "stream",
          "name": "stderr",
          "text": [
            " 37%|███▋      | 38/103 [00:04<00:06,  9.37it/s]"
          ]
        },
        {
          "output_type": "stream",
          "name": "stdout",
          "text": [
            "Failed for wallet 0x56ba823641bfc317afc8459bf27feed6eb9ff59f: 'data'\n",
            "Failed for wallet 0x56cc2bffcb3f86a30c492f9d1a671a1f744d1d2f: 'data'\n"
          ]
        },
        {
          "output_type": "stream",
          "name": "stderr",
          "text": [
            " 39%|███▉      | 40/103 [00:04<00:06,  9.08it/s]"
          ]
        },
        {
          "output_type": "stream",
          "name": "stdout",
          "text": [
            "Failed for wallet 0x578cea5f899b0dfbf05c7fbcfda1a644b2a47787: 'data'\n",
            "Failed for wallet 0x58c2a9099a03750e9842d3e9a7780cdd6aa70b86: 'data'\n"
          ]
        },
        {
          "output_type": "stream",
          "name": "stderr",
          "text": [
            " 41%|████      | 42/103 [00:04<00:06,  9.35it/s]"
          ]
        },
        {
          "output_type": "stream",
          "name": "stdout",
          "text": [
            "Failed for wallet 0x58d68d4bcf9725e40353379cec92b90332561683: 'data'\n",
            "Failed for wallet 0x5e324b4a564512ea7c93088dba2f8c1bf046a3eb: 'data'\n"
          ]
        },
        {
          "output_type": "stream",
          "name": "stderr",
          "text": [
            " 43%|████▎     | 44/103 [00:04<00:06,  8.83it/s]"
          ]
        },
        {
          "output_type": "stream",
          "name": "stdout",
          "text": [
            "Failed for wallet 0x612a3500559be7be7703de6dc397afb541a16f7f: 'data'\n",
            "Failed for wallet 0x623af911f493747c216ad389c7805a37019c662d: 'data'\n"
          ]
        },
        {
          "output_type": "stream",
          "name": "stderr",
          "text": [
            " 45%|████▍     | 46/103 [00:05<00:06,  8.95it/s]"
          ]
        },
        {
          "output_type": "stream",
          "name": "stdout",
          "text": [
            "Failed for wallet 0x6a2752a534faacaaa153bffbb973dd84e0e5497b: 'data'\n",
            "Failed for wallet 0x6d69ca3711e504658977367e13c300ab198379f1: 'data'\n"
          ]
        },
        {
          "output_type": "stream",
          "name": "stderr",
          "text": [
            " 47%|████▋     | 48/103 [00:05<00:06,  8.84it/s]"
          ]
        },
        {
          "output_type": "stream",
          "name": "stdout",
          "text": [
            "Failed for wallet 0x6e355417f7f56e7927d1cd971f0b5a1e6d538487: 'data'\n",
            "Failed for wallet 0x70c1864282599a762c674dd9d567b37e13bce755: 'data'\n"
          ]
        },
        {
          "output_type": "stream",
          "name": "stderr",
          "text": [
            " 49%|████▊     | 50/103 [00:05<00:05,  9.05it/s]"
          ]
        },
        {
          "output_type": "stream",
          "name": "stdout",
          "text": [
            "Failed for wallet 0x70d8e4ab175dfe0eab4e9a7f33e0a2d19f44001e: 'data'\n",
            "Failed for wallet 0x7399dbeebe2f88bc6ac4e3fd7ddb836a4bce322f: 'data'\n"
          ]
        },
        {
          "output_type": "stream",
          "name": "stderr",
          "text": [
            " 50%|█████     | 52/103 [00:05<00:05,  8.97it/s]"
          ]
        },
        {
          "output_type": "stream",
          "name": "stdout",
          "text": [
            "Failed for wallet 0x767055590c73b7d2aaa6219da13807c493f91a20: 'data'\n",
            "Failed for wallet 0x7851bdfb64bbecfb40c030d722a1f147dff5db6a: 'data'\n"
          ]
        },
        {
          "output_type": "stream",
          "name": "stderr",
          "text": [
            " 52%|█████▏    | 54/103 [00:05<00:05,  8.97it/s]"
          ]
        },
        {
          "output_type": "stream",
          "name": "stdout",
          "text": [
            "Failed for wallet 0x7b4636320daa0bc055368a4f9b9d01bd8ac51877: 'data'\n",
            "Failed for wallet 0x7b57dbe2f2e4912a29754ff3e412ed9507fd8957: 'data'\n"
          ]
        },
        {
          "output_type": "stream",
          "name": "stderr",
          "text": [
            " 54%|█████▍    | 56/103 [00:06<00:05,  9.12it/s]"
          ]
        },
        {
          "output_type": "stream",
          "name": "stdout",
          "text": [
            "Failed for wallet 0x7be3dfb5b6fcbae542ea85e76cc19916a20f6c1e: 'data'\n",
            "Failed for wallet 0x7de76a449cf60ea3e111ff18b28e516d89532152: 'data'\n"
          ]
        },
        {
          "output_type": "stream",
          "name": "stderr",
          "text": [
            " 56%|█████▋    | 58/103 [00:06<00:04,  9.33it/s]"
          ]
        },
        {
          "output_type": "stream",
          "name": "stdout",
          "text": [
            "Failed for wallet 0x7e3eab408b9c76a13305ef34606f17c16f7b33cc: 'data'\n",
            "Failed for wallet 0x7f5e6a28afc9fb0aaf4259d4ff69991b88ebea47: 'data'\n"
          ]
        },
        {
          "output_type": "stream",
          "name": "stderr",
          "text": [
            " 58%|█████▊    | 60/103 [00:06<00:04,  9.25it/s]"
          ]
        },
        {
          "output_type": "stream",
          "name": "stdout",
          "text": [
            "Failed for wallet 0x83ea74c67d393c6894c34c464657bda2183a2f1a: 'data'\n",
            "Failed for wallet 0x8441fecef5cc6f697be2c4fc4a36feacede8df67: 'data'\n"
          ]
        },
        {
          "output_type": "stream",
          "name": "stderr",
          "text": [
            " 60%|██████    | 62/103 [00:06<00:04,  9.10it/s]"
          ]
        },
        {
          "output_type": "stream",
          "name": "stdout",
          "text": [
            "Failed for wallet 0x854a873b8f9bfac36a5eb9c648e285a095a7478d: 'data'\n",
            "Failed for wallet 0x8587d9f794f06d976c2ec1cfd523983b856f5ca9: 'data'\n"
          ]
        },
        {
          "output_type": "stream",
          "name": "stderr",
          "text": [
            " 62%|██████▏   | 64/103 [00:06<00:04,  9.37it/s]"
          ]
        },
        {
          "output_type": "stream",
          "name": "stdout",
          "text": [
            "Failed for wallet 0x880a0af12da55df1197f41697c1a1b61670ed410: 'data'\n",
            "Failed for wallet 0x8aaece100580b749a20f8ce30338c4e0770b65ed: 'data'\n"
          ]
        },
        {
          "output_type": "stream",
          "name": "stderr",
          "text": [
            " 64%|██████▍   | 66/103 [00:07<00:04,  9.19it/s]"
          ]
        },
        {
          "output_type": "stream",
          "name": "stdout",
          "text": [
            "Failed for wallet 0x8be38ea2b22b706aef313c2de81f7d179024dd30: 'data'\n",
            "Failed for wallet 0x8d900f213db5205c529aaba5d10e71a0ed2646db: 'data'\n"
          ]
        },
        {
          "output_type": "stream",
          "name": "stderr",
          "text": [
            " 66%|██████▌   | 68/103 [00:07<00:03,  9.32it/s]"
          ]
        },
        {
          "output_type": "stream",
          "name": "stdout",
          "text": [
            "Failed for wallet 0x91919344c1dad09772d19ad8ad4f1bcd29c51f27: 'data'\n",
            "Failed for wallet 0x93f0891bf71d8abed78e0de0885bd26355bb8b1d: 'data'\n"
          ]
        },
        {
          "output_type": "stream",
          "name": "stderr",
          "text": [
            " 68%|██████▊   | 70/103 [00:07<00:03,  9.07it/s]"
          ]
        },
        {
          "output_type": "stream",
          "name": "stdout",
          "text": [
            "Failed for wallet 0x96479b087cb8f236a5e2dcbfc50ce63b2f421da6: 'data'\n",
            "Failed for wallet 0x96bb4447a02b95f1d1e85374cffd565eb22ed2f8: 'data'\n"
          ]
        },
        {
          "output_type": "stream",
          "name": "stderr",
          "text": [
            " 70%|██████▉   | 72/103 [00:07<00:03,  9.28it/s]"
          ]
        },
        {
          "output_type": "stream",
          "name": "stdout",
          "text": [
            "Failed for wallet 0x9a363adc5d382c04d36b09158286328f75672098: 'data'\n",
            "Failed for wallet 0x9ad1331c5b6c5a641acffb32719c66a80c6e1a17: 'data'\n"
          ]
        },
        {
          "output_type": "stream",
          "name": "stderr",
          "text": [
            " 72%|███████▏  | 74/103 [00:08<00:03,  8.97it/s]"
          ]
        },
        {
          "output_type": "stream",
          "name": "stdout",
          "text": [
            "Failed for wallet 0x9ba0d85f71e145ccf15225e59631e5a883d5d74a: 'data'\n",
            "Failed for wallet 0x9e6ec4e98793970a1307262ba68d37594e58cd78: 'data'\n"
          ]
        },
        {
          "output_type": "stream",
          "name": "stderr",
          "text": [
            " 74%|███████▍  | 76/103 [00:08<00:02,  9.14it/s]"
          ]
        },
        {
          "output_type": "stream",
          "name": "stdout",
          "text": [
            "Failed for wallet 0xa7e94d933eb0c439dda357f61244a485246e97b8: 'data'\n",
            "Failed for wallet 0xa7f3c74f0255796fd5d3ddcf88db769f7a6bf46a: 'data'\n"
          ]
        },
        {
          "output_type": "stream",
          "name": "stderr",
          "text": [
            " 76%|███████▌  | 78/103 [00:08<00:02,  9.26it/s]"
          ]
        },
        {
          "output_type": "stream",
          "name": "stdout",
          "text": [
            "Failed for wallet 0xa98dc64bb42575efec7d1e4560c029231ce5da51: 'data'\n",
            "Failed for wallet 0xb271ff7090b39028eb6e711c3f89a3453d5861ee: 'data'\n"
          ]
        },
        {
          "output_type": "stream",
          "name": "stderr",
          "text": [
            " 78%|███████▊  | 80/103 [00:08<00:02,  9.44it/s]"
          ]
        },
        {
          "output_type": "stream",
          "name": "stdout",
          "text": [
            "Failed for wallet 0xb475576594ae44e1f75f534f993cbb7673e4c8b6: 'data'\n",
            "Failed for wallet 0xb57297c5d02def954794e593db93d0a302e43e5c: 'data'\n"
          ]
        },
        {
          "output_type": "stream",
          "name": "stderr",
          "text": [
            " 80%|███████▉  | 82/103 [00:08<00:02,  9.47it/s]"
          ]
        },
        {
          "output_type": "stream",
          "name": "stdout",
          "text": [
            "Failed for wallet 0xbd4a00764217c13a246f86db58d74541a0c3972a: 'data'\n",
            "Failed for wallet 0xc179d55f7e00e789915760f7d260a1bf6285278b: 'data'\n"
          ]
        },
        {
          "output_type": "stream",
          "name": "stderr",
          "text": [
            " 82%|████████▏ | 84/103 [00:09<00:02,  9.38it/s]"
          ]
        },
        {
          "output_type": "stream",
          "name": "stdout",
          "text": [
            "Failed for wallet 0xc22b8e78394ce52e0034609a67ae3c959daa84bc: 'data'\n",
            "Failed for wallet 0xcbbd9fe837a14258286bbf2e182cbc4e4518c5a3: 'data'\n"
          ]
        },
        {
          "output_type": "stream",
          "name": "stderr",
          "text": [
            " 83%|████████▎ | 86/103 [00:09<00:01,  9.34it/s]"
          ]
        },
        {
          "output_type": "stream",
          "name": "stdout",
          "text": [
            "Failed for wallet 0xcecf5163bb057c1aff4963d9b9a7d2f0bf591710: 'data'\n",
            "Failed for wallet 0xcf0033bf27804640e5339e06443e208db5870dd2: 'data'\n"
          ]
        },
        {
          "output_type": "stream",
          "name": "stderr",
          "text": [
            " 85%|████████▌ | 88/103 [00:09<00:01,  9.50it/s]"
          ]
        },
        {
          "output_type": "stream",
          "name": "stdout",
          "text": [
            "Failed for wallet 0xd0df53e296c1e3115fccc3d7cdf4ba495e593b56: 'data'\n",
            "Failed for wallet 0xd1a3888fd8f490367c6104e10b4154427c02dd9c: 'data'\n"
          ]
        },
        {
          "output_type": "stream",
          "name": "stderr",
          "text": [
            " 87%|████████▋ | 90/103 [00:09<00:01,  9.29it/s]"
          ]
        },
        {
          "output_type": "stream",
          "name": "stdout",
          "text": [
            "Failed for wallet 0xd334d18fa6bada9a10f361bae42a019ce88a3c33: 'data'\n",
            "Failed for wallet 0xd9d3930ffa343f5a0eec7606d045d0843d3a02b4: 'data'\n"
          ]
        },
        {
          "output_type": "stream",
          "name": "stderr",
          "text": [
            " 89%|████████▉ | 92/103 [00:09<00:01,  9.26it/s]"
          ]
        },
        {
          "output_type": "stream",
          "name": "stdout",
          "text": [
            "Failed for wallet 0xdde73df7bd4d704a89ad8421402701b3a460c6e9: 'data'\n",
            "Failed for wallet 0xde92d70253604fd8c5998c8ee3ed282a41b33b7f: 'data'\n"
          ]
        },
        {
          "output_type": "stream",
          "name": "stderr",
          "text": [
            " 91%|█████████▏| 94/103 [00:10<00:00,  9.28it/s]"
          ]
        },
        {
          "output_type": "stream",
          "name": "stdout",
          "text": [
            "Failed for wallet 0xded1f838ae6aa5fcd0f13481b37ee88e5bdccb3d: 'data'\n",
            "Failed for wallet 0xebb8629e8a3ec86cf90cb7600264415640834483: 'data'\n"
          ]
        },
        {
          "output_type": "stream",
          "name": "stderr",
          "text": [
            " 93%|█████████▎| 96/103 [00:10<00:00,  9.30it/s]"
          ]
        },
        {
          "output_type": "stream",
          "name": "stdout",
          "text": [
            "Failed for wallet 0xeded1c8c0a0c532195b8432153f3bfa81dba2a90: 'data'\n",
            "Failed for wallet 0xf10fd8921019615a856c1e95c7cd3632de34edc4: 'data'\n"
          ]
        },
        {
          "output_type": "stream",
          "name": "stderr",
          "text": [
            " 95%|█████████▌| 98/103 [00:10<00:00,  9.38it/s]"
          ]
        },
        {
          "output_type": "stream",
          "name": "stdout",
          "text": [
            "Failed for wallet 0xf340b9f2098f80b86fbc5ede586c319473aa11f3: 'data'\n",
            "Failed for wallet 0xf54f36bca969800fd7d63a68029561309938c09b: 'data'\n"
          ]
        },
        {
          "output_type": "stream",
          "name": "stderr",
          "text": [
            " 97%|█████████▋| 100/103 [00:10<00:00,  9.27it/s]"
          ]
        },
        {
          "output_type": "stream",
          "name": "stdout",
          "text": [
            "Failed for wallet 0xf60304b534f74977e159b2e159e135475c245526: 'data'\n",
            "Failed for wallet 0xf67e8e5805835465f7eba988259db882ab726800: 'data'\n"
          ]
        },
        {
          "output_type": "stream",
          "name": "stderr",
          "text": [
            " 99%|█████████▉| 102/103 [00:11<00:00,  9.40it/s]"
          ]
        },
        {
          "output_type": "stream",
          "name": "stdout",
          "text": [
            "Failed for wallet 0xf7aa5d0752cfcd41b0a5945867d619a80c405e52: 'data'\n",
            "Failed for wallet 0xf80a8b9cfff0febf49914c269fb8aead4a22f847: 'data'\n"
          ]
        },
        {
          "output_type": "stream",
          "name": "stderr",
          "text": [
            "100%|██████████| 103/103 [00:11<00:00,  9.23it/s]"
          ]
        },
        {
          "output_type": "stream",
          "name": "stdout",
          "text": [
            "Failed for wallet 0xfe5a05c0f8b24fca15a7306f6a4ebb7dcf2186ac: 'data'\n"
          ]
        },
        {
          "output_type": "stream",
          "name": "stderr",
          "text": [
            "\n"
          ]
        }
      ]
    },
    {
      "cell_type": "markdown",
      "source": [
        "***Trying AaveV2 Again***"
      ],
      "metadata": {
        "id": "WfHmmBgHyvpy"
      }
    },
    {
      "cell_type": "code",
      "source": [
        "import pandas as pd\n",
        "import requests\n",
        "import time\n",
        "\n",
        "# Load wallet addresses from uploaded CSV\n",
        "wallet_df = pd.read_csv(\"/content/Wallet id - Sheet1.csv\")  # adjust path if needed\n",
        "wallets = wallet_df['wallet_id'].dropna().str.lower().unique().tolist()\n",
        "\n",
        "# Aave V2 subgraph endpoint\n",
        "AAVE_V2_URL = \"https://api.thegraph.com/subgraphs/name/aave/protocol-v2\"\n",
        "\n",
        "# GraphQL query for Aave V2 protocol data\n",
        "def fetch_aave_data(wallet):\n",
        "    query = \"\"\"\n",
        "    {\n",
        "      user(id: \"%s\") {\n",
        "        id\n",
        "        reserves {\n",
        "          reserve {\n",
        "            symbol\n",
        "          }\n",
        "          currentATokenBalance\n",
        "          currentTotalDebt\n",
        "          usageAsCollateralEnabledOnUser\n",
        "        }\n",
        "      }\n",
        "    }\n",
        "    \"\"\" % wallet.lower()\n",
        "\n",
        "    response = requests.post(AAVE_V2_URL, json={\"query\": query})\n",
        "    if response.ok:\n",
        "        return response.json().get(\"data\", {}).get(\"user\")\n",
        "    else:\n",
        "        print(f\"Failed for wallet: {wallet}\")\n",
        "        return None\n",
        "\n",
        "# Fetch data for all wallets\n",
        "aave_data = []\n",
        "for i, wallet in enumerate(wallets):\n",
        "    user_data = fetch_aave_data(wallet)\n",
        "    if user_data:\n",
        "        for reserve in user_data['reserves']:\n",
        "            aave_data.append({\n",
        "                \"wallet\": wallet,\n",
        "                \"symbol\": reserve[\"reserve\"][\"symbol\"],\n",
        "                \"aToken_balance\": float(reserve[\"currentATokenBalance\"]),\n",
        "                \"debt\": float(reserve[\"currentTotalDebt\"]),\n",
        "                \"collateral_enabled\": reserve[\"usageAsCollateralEnabledOnUser\"]\n",
        "            })\n",
        "    time.sleep(0.3)  # avoid rate limits\n",
        "\n",
        "# Create DataFrame\n",
        "df = pd.DataFrame(aave_data)\n",
        "df.head()\n"
      ],
      "metadata": {
        "colab": {
          "base_uri": "https://localhost:8080/",
          "height": 138
        },
        "id": "uVRbAZVJtvck",
        "outputId": "47405e88-807d-4bed-c0c4-242c4f1daa9f"
      },
      "execution_count": 25,
      "outputs": [
        {
          "output_type": "execute_result",
          "data": {
            "text/plain": [
              "Empty DataFrame\n",
              "Columns: []\n",
              "Index: []"
            ],
            "text/html": [
              "\n",
              "  <div id=\"df-eddc1474-da6b-4400-b07f-31f6cac35189\" class=\"colab-df-container\">\n",
              "    <div>\n",
              "<style scoped>\n",
              "    .dataframe tbody tr th:only-of-type {\n",
              "        vertical-align: middle;\n",
              "    }\n",
              "\n",
              "    .dataframe tbody tr th {\n",
              "        vertical-align: top;\n",
              "    }\n",
              "\n",
              "    .dataframe thead th {\n",
              "        text-align: right;\n",
              "    }\n",
              "</style>\n",
              "<table border=\"1\" class=\"dataframe\">\n",
              "  <thead>\n",
              "    <tr style=\"text-align: right;\">\n",
              "      <th></th>\n",
              "    </tr>\n",
              "  </thead>\n",
              "  <tbody>\n",
              "  </tbody>\n",
              "</table>\n",
              "</div>\n",
              "    <div class=\"colab-df-buttons\">\n",
              "\n",
              "  <div class=\"colab-df-container\">\n",
              "    <button class=\"colab-df-convert\" onclick=\"convertToInteractive('df-eddc1474-da6b-4400-b07f-31f6cac35189')\"\n",
              "            title=\"Convert this dataframe to an interactive table.\"\n",
              "            style=\"display:none;\">\n",
              "\n",
              "  <svg xmlns=\"http://www.w3.org/2000/svg\" height=\"24px\" viewBox=\"0 -960 960 960\">\n",
              "    <path d=\"M120-120v-720h720v720H120Zm60-500h600v-160H180v160Zm220 220h160v-160H400v160Zm0 220h160v-160H400v160ZM180-400h160v-160H180v160Zm440 0h160v-160H620v160ZM180-180h160v-160H180v160Zm440 0h160v-160H620v160Z\"/>\n",
              "  </svg>\n",
              "    </button>\n",
              "\n",
              "  <style>\n",
              "    .colab-df-container {\n",
              "      display:flex;\n",
              "      gap: 12px;\n",
              "    }\n",
              "\n",
              "    .colab-df-convert {\n",
              "      background-color: #E8F0FE;\n",
              "      border: none;\n",
              "      border-radius: 50%;\n",
              "      cursor: pointer;\n",
              "      display: none;\n",
              "      fill: #1967D2;\n",
              "      height: 32px;\n",
              "      padding: 0 0 0 0;\n",
              "      width: 32px;\n",
              "    }\n",
              "\n",
              "    .colab-df-convert:hover {\n",
              "      background-color: #E2EBFA;\n",
              "      box-shadow: 0px 1px 2px rgba(60, 64, 67, 0.3), 0px 1px 3px 1px rgba(60, 64, 67, 0.15);\n",
              "      fill: #174EA6;\n",
              "    }\n",
              "\n",
              "    .colab-df-buttons div {\n",
              "      margin-bottom: 4px;\n",
              "    }\n",
              "\n",
              "    [theme=dark] .colab-df-convert {\n",
              "      background-color: #3B4455;\n",
              "      fill: #D2E3FC;\n",
              "    }\n",
              "\n",
              "    [theme=dark] .colab-df-convert:hover {\n",
              "      background-color: #434B5C;\n",
              "      box-shadow: 0px 1px 3px 1px rgba(0, 0, 0, 0.15);\n",
              "      filter: drop-shadow(0px 1px 2px rgba(0, 0, 0, 0.3));\n",
              "      fill: #FFFFFF;\n",
              "    }\n",
              "  </style>\n",
              "\n",
              "    <script>\n",
              "      const buttonEl =\n",
              "        document.querySelector('#df-eddc1474-da6b-4400-b07f-31f6cac35189 button.colab-df-convert');\n",
              "      buttonEl.style.display =\n",
              "        google.colab.kernel.accessAllowed ? 'block' : 'none';\n",
              "\n",
              "      async function convertToInteractive(key) {\n",
              "        const element = document.querySelector('#df-eddc1474-da6b-4400-b07f-31f6cac35189');\n",
              "        const dataTable =\n",
              "          await google.colab.kernel.invokeFunction('convertToInteractive',\n",
              "                                                    [key], {});\n",
              "        if (!dataTable) return;\n",
              "\n",
              "        const docLinkHtml = 'Like what you see? Visit the ' +\n",
              "          '<a target=\"_blank\" href=https://colab.research.google.com/notebooks/data_table.ipynb>data table notebook</a>'\n",
              "          + ' to learn more about interactive tables.';\n",
              "        element.innerHTML = '';\n",
              "        dataTable['output_type'] = 'display_data';\n",
              "        await google.colab.output.renderOutput(dataTable, element);\n",
              "        const docLink = document.createElement('div');\n",
              "        docLink.innerHTML = docLinkHtml;\n",
              "        element.appendChild(docLink);\n",
              "      }\n",
              "    </script>\n",
              "  </div>\n",
              "\n",
              "\n",
              "    </div>\n",
              "  </div>\n"
            ],
            "application/vnd.google.colaboratory.intrinsic+json": {
              "type": "dataframe",
              "variable_name": "df",
              "summary": "{\n  \"name\": \"df\",\n  \"rows\": 0,\n  \"fields\": []\n}"
            }
          },
          "metadata": {},
          "execution_count": 25
        }
      ]
    },
    {
      "cell_type": "markdown",
      "source": [
        "***Trying AaveV3***"
      ],
      "metadata": {
        "id": "lUAbFY1OyqxK"
      }
    },
    {
      "cell_type": "code",
      "source": [
        "import pandas as pd\n",
        "import requests\n",
        "import time\n",
        "\n",
        "# Load wallet CSV again (uploaded previously)\n",
        "wallet_df = pd.read_csv(\"/content/Wallet id - Sheet1.csv\")\n",
        "wallets = wallet_df['wallet_id'].dropna().str.lower().unique().tolist()\n",
        "\n",
        "# Aave V3 Subgraph endpoint\n",
        "AAVE_V3_URL = \"https://api.thegraph.com/subgraphs/name/aave/protocol-v3\"\n",
        "\n",
        "# GraphQL query function\n",
        "def fetch_aave_v3_data(wallet):\n",
        "    query = \"\"\"\n",
        "    {\n",
        "      user(id: \"%s\") {\n",
        "        id\n",
        "        reserves {\n",
        "          reserve {\n",
        "            symbol\n",
        "          }\n",
        "          scaledATokenBalance\n",
        "          currentTotalDebt\n",
        "          usageAsCollateralEnabledOnUser\n",
        "        }\n",
        "      }\n",
        "    }\n",
        "    \"\"\" % wallet.lower()\n",
        "\n",
        "    response = requests.post(AAVE_V3_URL, json={\"query\": query})\n",
        "    if response.ok:\n",
        "        return response.json().get(\"data\", {}).get(\"user\")\n",
        "    else:\n",
        "        print(f\"Failed for {wallet}\")\n",
        "        return None\n",
        "\n",
        "# Loop through all wallets\n",
        "aave_v3_data = []\n",
        "for i, wallet in enumerate(wallets):\n",
        "    print(f\"Fetching {i+1}/{len(wallets)}: {wallet}\")\n",
        "    user_data = fetch_aave_v3_data(wallet)\n",
        "    if user_data:\n",
        "        for reserve in user_data['reserves']:\n",
        "            aave_v3_data.append({\n",
        "                \"wallet\": wallet,\n",
        "                \"symbol\": reserve[\"reserve\"][\"symbol\"],\n",
        "                \"aToken_balance\": float(reserve[\"scaledATokenBalance\"]),\n",
        "                \"debt\": float(reserve[\"currentTotalDebt\"]),\n",
        "                \"collateral_enabled\": reserve[\"usageAsCollateralEnabledOnUser\"]\n",
        "            })\n",
        "    time.sleep(0.3)  # rate limiting\n",
        "\n",
        "# Convert to DataFrame\n",
        "df = pd.DataFrame(aave_v3_data)\n",
        "df.head()\n"
      ],
      "metadata": {
        "colab": {
          "base_uri": "https://localhost:8080/",
          "height": 2066
        },
        "collapsed": true,
        "id": "ugPDisF7umEB",
        "outputId": "9ab67dc8-e4c6-48b6-d11d-972ff7d72abe"
      },
      "execution_count": 26,
      "outputs": [
        {
          "output_type": "stream",
          "name": "stdout",
          "text": [
            "Fetching 1/103: 0x0039f22efb07a647557c7c5d17854cfd6d489ef3\n",
            "Fetching 2/103: 0x06b51c6882b27cb05e712185531c1f74996dd988\n",
            "Fetching 3/103: 0x0795732aacc448030ef374374eaae57d2965c16c\n",
            "Fetching 4/103: 0x0aaa79f1a86bc8136cd0d1ca0d51964f4e3766f9\n",
            "Fetching 5/103: 0x0fe383e5abc200055a7f391f94a5f5d1f844b9ae\n",
            "Fetching 6/103: 0x104ae61d8d487ad689969a17807ddc338b445416\n",
            "Fetching 7/103: 0x111c7208a7e2af345d36b6d4aace8740d61a3078\n",
            "Fetching 8/103: 0x124853fecb522c57d9bd5c21231058696ca6d596\n",
            "Fetching 9/103: 0x13b1c8b0e696aff8b4fee742119b549b605f3cbc\n",
            "Fetching 10/103: 0x1656f1886c5ab634ac19568cd571bc72f385fdf7\n",
            "Fetching 11/103: 0x1724e16cb8d0e2aa4d08035bc6b5c56b680a3b22\n",
            "Fetching 12/103: 0x19df3e87f73c4aaf4809295561465b993e102668\n",
            "Fetching 13/103: 0x1ab2ccad4fc97c9968ea87d4435326715be32872\n",
            "Fetching 14/103: 0x1c1b30ca93ef57452d53885d97a74f61daf2bf4f\n",
            "Fetching 15/103: 0x1e43dacdcf863676a6bec8f7d6896d6252fac669\n",
            "Fetching 16/103: 0x22d7510588d90ed5a87e0f838391aaafa707c34b\n",
            "Fetching 17/103: 0x24b3460622d835c56d9a4fe352966b9bdc6c20af\n",
            "Fetching 18/103: 0x26750f1f4277221bdb5f6991473c6ece8c821f9d\n",
            "Fetching 19/103: 0x27f72a000d8e9f324583f3a3491ea66998275b28\n",
            "Fetching 20/103: 0x2844658bf341db96aa247259824f42025e3bcec2\n",
            "Fetching 21/103: 0x2a2fde3e1beb508fcf7c137a1d5965f13a17825e\n",
            "Fetching 22/103: 0x330513970efd9e8dd606275fb4c50378989b3204\n",
            "Fetching 23/103: 0x3361bea43c2f5f963f81ac70f64e6fba1f1d2a97\n",
            "Fetching 24/103: 0x3867d222ba91236ad4d12c31056626f9e798629c\n",
            "Fetching 25/103: 0x3a44be4581137019f83021eeee72b7dc57756069\n",
            "Fetching 26/103: 0x3e69ad05716bdc834db72c4d6d44439a7c8a902b\n",
            "Fetching 27/103: 0x427f2ac5fdf4245e027d767e7c3ac272a1f40a65\n",
            "Fetching 28/103: 0x4814be124d7fe3b240eb46061f7ddfab468fe122\n",
            "Fetching 29/103: 0x4839e666e2baf12a51bf004392b35972eeddeabf\n",
            "Fetching 30/103: 0x4c4d05fe859279c91b074429b5fc451182cec745\n",
            "Fetching 31/103: 0x4d997c89bc659a3e8452038a8101161e7e7e53a7\n",
            "Fetching 32/103: 0x4db0a72edb5ea6c55df929f76e7d5bb14e389860\n",
            "Fetching 33/103: 0x4e61251336c32e4fe6bfd5fab014846599321389\n",
            "Fetching 34/103: 0x4e6e724f4163b24ffc7ffe662b5f6815b18b4210\n",
            "Fetching 35/103: 0x507b6c0d950702f066a9a1bd5e85206f87b065ba\n",
            "Fetching 36/103: 0x54e19653be9d4143b08994906be0e27555e8834d\n",
            "Fetching 37/103: 0x56ba823641bfc317afc8459bf27feed6eb9ff59f\n",
            "Fetching 38/103: 0x56cc2bffcb3f86a30c492f9d1a671a1f744d1d2f\n",
            "Fetching 39/103: 0x578cea5f899b0dfbf05c7fbcfda1a644b2a47787\n",
            "Fetching 40/103: 0x58c2a9099a03750e9842d3e9a7780cdd6aa70b86\n",
            "Fetching 41/103: 0x58d68d4bcf9725e40353379cec92b90332561683\n",
            "Fetching 42/103: 0x5e324b4a564512ea7c93088dba2f8c1bf046a3eb\n",
            "Fetching 43/103: 0x612a3500559be7be7703de6dc397afb541a16f7f\n",
            "Fetching 44/103: 0x623af911f493747c216ad389c7805a37019c662d\n",
            "Fetching 45/103: 0x6a2752a534faacaaa153bffbb973dd84e0e5497b\n",
            "Fetching 46/103: 0x6d69ca3711e504658977367e13c300ab198379f1\n",
            "Fetching 47/103: 0x6e355417f7f56e7927d1cd971f0b5a1e6d538487\n",
            "Fetching 48/103: 0x70c1864282599a762c674dd9d567b37e13bce755\n",
            "Fetching 49/103: 0x70d8e4ab175dfe0eab4e9a7f33e0a2d19f44001e\n",
            "Fetching 50/103: 0x7399dbeebe2f88bc6ac4e3fd7ddb836a4bce322f\n",
            "Fetching 51/103: 0x767055590c73b7d2aaa6219da13807c493f91a20\n",
            "Fetching 52/103: 0x7851bdfb64bbecfb40c030d722a1f147dff5db6a\n",
            "Fetching 53/103: 0x7b4636320daa0bc055368a4f9b9d01bd8ac51877\n",
            "Fetching 54/103: 0x7b57dbe2f2e4912a29754ff3e412ed9507fd8957\n",
            "Fetching 55/103: 0x7be3dfb5b6fcbae542ea85e76cc19916a20f6c1e\n",
            "Fetching 56/103: 0x7de76a449cf60ea3e111ff18b28e516d89532152\n",
            "Fetching 57/103: 0x7e3eab408b9c76a13305ef34606f17c16f7b33cc\n",
            "Fetching 58/103: 0x7f5e6a28afc9fb0aaf4259d4ff69991b88ebea47\n",
            "Fetching 59/103: 0x83ea74c67d393c6894c34c464657bda2183a2f1a\n",
            "Fetching 60/103: 0x8441fecef5cc6f697be2c4fc4a36feacede8df67\n",
            "Fetching 61/103: 0x854a873b8f9bfac36a5eb9c648e285a095a7478d\n",
            "Fetching 62/103: 0x8587d9f794f06d976c2ec1cfd523983b856f5ca9\n",
            "Fetching 63/103: 0x880a0af12da55df1197f41697c1a1b61670ed410\n",
            "Fetching 64/103: 0x8aaece100580b749a20f8ce30338c4e0770b65ed\n",
            "Fetching 65/103: 0x8be38ea2b22b706aef313c2de81f7d179024dd30\n",
            "Fetching 66/103: 0x8d900f213db5205c529aaba5d10e71a0ed2646db\n",
            "Fetching 67/103: 0x91919344c1dad09772d19ad8ad4f1bcd29c51f27\n",
            "Fetching 68/103: 0x93f0891bf71d8abed78e0de0885bd26355bb8b1d\n",
            "Fetching 69/103: 0x96479b087cb8f236a5e2dcbfc50ce63b2f421da6\n",
            "Fetching 70/103: 0x96bb4447a02b95f1d1e85374cffd565eb22ed2f8\n",
            "Fetching 71/103: 0x9a363adc5d382c04d36b09158286328f75672098\n",
            "Fetching 72/103: 0x9ad1331c5b6c5a641acffb32719c66a80c6e1a17\n",
            "Fetching 73/103: 0x9ba0d85f71e145ccf15225e59631e5a883d5d74a\n",
            "Fetching 74/103: 0x9e6ec4e98793970a1307262ba68d37594e58cd78\n",
            "Fetching 75/103: 0xa7e94d933eb0c439dda357f61244a485246e97b8\n",
            "Fetching 76/103: 0xa7f3c74f0255796fd5d3ddcf88db769f7a6bf46a\n",
            "Fetching 77/103: 0xa98dc64bb42575efec7d1e4560c029231ce5da51\n",
            "Fetching 78/103: 0xb271ff7090b39028eb6e711c3f89a3453d5861ee\n",
            "Fetching 79/103: 0xb475576594ae44e1f75f534f993cbb7673e4c8b6\n",
            "Fetching 80/103: 0xb57297c5d02def954794e593db93d0a302e43e5c\n",
            "Fetching 81/103: 0xbd4a00764217c13a246f86db58d74541a0c3972a\n",
            "Fetching 82/103: 0xc179d55f7e00e789915760f7d260a1bf6285278b\n",
            "Fetching 83/103: 0xc22b8e78394ce52e0034609a67ae3c959daa84bc\n",
            "Fetching 84/103: 0xcbbd9fe837a14258286bbf2e182cbc4e4518c5a3\n",
            "Fetching 85/103: 0xcecf5163bb057c1aff4963d9b9a7d2f0bf591710\n",
            "Fetching 86/103: 0xcf0033bf27804640e5339e06443e208db5870dd2\n",
            "Fetching 87/103: 0xd0df53e296c1e3115fccc3d7cdf4ba495e593b56\n",
            "Fetching 88/103: 0xd1a3888fd8f490367c6104e10b4154427c02dd9c\n",
            "Fetching 89/103: 0xd334d18fa6bada9a10f361bae42a019ce88a3c33\n",
            "Fetching 90/103: 0xd9d3930ffa343f5a0eec7606d045d0843d3a02b4\n",
            "Fetching 91/103: 0xdde73df7bd4d704a89ad8421402701b3a460c6e9\n",
            "Fetching 92/103: 0xde92d70253604fd8c5998c8ee3ed282a41b33b7f\n",
            "Fetching 93/103: 0xded1f838ae6aa5fcd0f13481b37ee88e5bdccb3d\n",
            "Fetching 94/103: 0xebb8629e8a3ec86cf90cb7600264415640834483\n",
            "Fetching 95/103: 0xeded1c8c0a0c532195b8432153f3bfa81dba2a90\n",
            "Fetching 96/103: 0xf10fd8921019615a856c1e95c7cd3632de34edc4\n",
            "Fetching 97/103: 0xf340b9f2098f80b86fbc5ede586c319473aa11f3\n",
            "Fetching 98/103: 0xf54f36bca969800fd7d63a68029561309938c09b\n",
            "Fetching 99/103: 0xf60304b534f74977e159b2e159e135475c245526\n",
            "Fetching 100/103: 0xf67e8e5805835465f7eba988259db882ab726800\n",
            "Fetching 101/103: 0xf7aa5d0752cfcd41b0a5945867d619a80c405e52\n",
            "Fetching 102/103: 0xf80a8b9cfff0febf49914c269fb8aead4a22f847\n",
            "Fetching 103/103: 0xfe5a05c0f8b24fca15a7306f6a4ebb7dcf2186ac\n"
          ]
        },
        {
          "output_type": "execute_result",
          "data": {
            "text/plain": [
              "Empty DataFrame\n",
              "Columns: []\n",
              "Index: []"
            ],
            "text/html": [
              "\n",
              "  <div id=\"df-82c649e3-ff49-4da6-8072-aef6f5fc73c3\" class=\"colab-df-container\">\n",
              "    <div>\n",
              "<style scoped>\n",
              "    .dataframe tbody tr th:only-of-type {\n",
              "        vertical-align: middle;\n",
              "    }\n",
              "\n",
              "    .dataframe tbody tr th {\n",
              "        vertical-align: top;\n",
              "    }\n",
              "\n",
              "    .dataframe thead th {\n",
              "        text-align: right;\n",
              "    }\n",
              "</style>\n",
              "<table border=\"1\" class=\"dataframe\">\n",
              "  <thead>\n",
              "    <tr style=\"text-align: right;\">\n",
              "      <th></th>\n",
              "    </tr>\n",
              "  </thead>\n",
              "  <tbody>\n",
              "  </tbody>\n",
              "</table>\n",
              "</div>\n",
              "    <div class=\"colab-df-buttons\">\n",
              "\n",
              "  <div class=\"colab-df-container\">\n",
              "    <button class=\"colab-df-convert\" onclick=\"convertToInteractive('df-82c649e3-ff49-4da6-8072-aef6f5fc73c3')\"\n",
              "            title=\"Convert this dataframe to an interactive table.\"\n",
              "            style=\"display:none;\">\n",
              "\n",
              "  <svg xmlns=\"http://www.w3.org/2000/svg\" height=\"24px\" viewBox=\"0 -960 960 960\">\n",
              "    <path d=\"M120-120v-720h720v720H120Zm60-500h600v-160H180v160Zm220 220h160v-160H400v160Zm0 220h160v-160H400v160ZM180-400h160v-160H180v160Zm440 0h160v-160H620v160ZM180-180h160v-160H180v160Zm440 0h160v-160H620v160Z\"/>\n",
              "  </svg>\n",
              "    </button>\n",
              "\n",
              "  <style>\n",
              "    .colab-df-container {\n",
              "      display:flex;\n",
              "      gap: 12px;\n",
              "    }\n",
              "\n",
              "    .colab-df-convert {\n",
              "      background-color: #E8F0FE;\n",
              "      border: none;\n",
              "      border-radius: 50%;\n",
              "      cursor: pointer;\n",
              "      display: none;\n",
              "      fill: #1967D2;\n",
              "      height: 32px;\n",
              "      padding: 0 0 0 0;\n",
              "      width: 32px;\n",
              "    }\n",
              "\n",
              "    .colab-df-convert:hover {\n",
              "      background-color: #E2EBFA;\n",
              "      box-shadow: 0px 1px 2px rgba(60, 64, 67, 0.3), 0px 1px 3px 1px rgba(60, 64, 67, 0.15);\n",
              "      fill: #174EA6;\n",
              "    }\n",
              "\n",
              "    .colab-df-buttons div {\n",
              "      margin-bottom: 4px;\n",
              "    }\n",
              "\n",
              "    [theme=dark] .colab-df-convert {\n",
              "      background-color: #3B4455;\n",
              "      fill: #D2E3FC;\n",
              "    }\n",
              "\n",
              "    [theme=dark] .colab-df-convert:hover {\n",
              "      background-color: #434B5C;\n",
              "      box-shadow: 0px 1px 3px 1px rgba(0, 0, 0, 0.15);\n",
              "      filter: drop-shadow(0px 1px 2px rgba(0, 0, 0, 0.3));\n",
              "      fill: #FFFFFF;\n",
              "    }\n",
              "  </style>\n",
              "\n",
              "    <script>\n",
              "      const buttonEl =\n",
              "        document.querySelector('#df-82c649e3-ff49-4da6-8072-aef6f5fc73c3 button.colab-df-convert');\n",
              "      buttonEl.style.display =\n",
              "        google.colab.kernel.accessAllowed ? 'block' : 'none';\n",
              "\n",
              "      async function convertToInteractive(key) {\n",
              "        const element = document.querySelector('#df-82c649e3-ff49-4da6-8072-aef6f5fc73c3');\n",
              "        const dataTable =\n",
              "          await google.colab.kernel.invokeFunction('convertToInteractive',\n",
              "                                                    [key], {});\n",
              "        if (!dataTable) return;\n",
              "\n",
              "        const docLinkHtml = 'Like what you see? Visit the ' +\n",
              "          '<a target=\"_blank\" href=https://colab.research.google.com/notebooks/data_table.ipynb>data table notebook</a>'\n",
              "          + ' to learn more about interactive tables.';\n",
              "        element.innerHTML = '';\n",
              "        dataTable['output_type'] = 'display_data';\n",
              "        await google.colab.output.renderOutput(dataTable, element);\n",
              "        const docLink = document.createElement('div');\n",
              "        docLink.innerHTML = docLinkHtml;\n",
              "        element.appendChild(docLink);\n",
              "      }\n",
              "    </script>\n",
              "  </div>\n",
              "\n",
              "\n",
              "    </div>\n",
              "  </div>\n"
            ],
            "application/vnd.google.colaboratory.intrinsic+json": {
              "type": "dataframe",
              "variable_name": "df",
              "summary": "{\n  \"name\": \"df\",\n  \"rows\": 0,\n  \"fields\": []\n}"
            }
          },
          "metadata": {},
          "execution_count": 26
        },
        {
          "output_type": "display_data",
          "data": {
            "text/plain": [
              "<google.colab._quickchart_helpers.SectionTitle at 0x7f08110b5a50>"
            ],
            "text/html": [
              "<h4 class=\"colab-quickchart-section-title\">Time series</h4>\n",
              "<style>\n",
              "  .colab-quickchart-section-title {\n",
              "      clear: both;\n",
              "  }\n",
              "</style>"
            ]
          },
          "metadata": {}
        },
        {
          "output_type": "display_data",
          "data": {
            "text/plain": [
              "from matplotlib import pyplot as plt\n",
              "import seaborn as sns\n",
              "def _plot_series(series, series_name, series_index=0):\n",
              "  palette = list(sns.palettes.mpl_palette('Dark2'))\n",
              "  counted = (series['index']\n",
              "                .value_counts()\n",
              "              .reset_index(name='counts')\n",
              "              .rename({'index': 'index'}, axis=1)\n",
              "              .sort_values('index', ascending=True))\n",
              "  xs = counted['index']\n",
              "  ys = counted['counts']\n",
              "  plt.plot(xs, ys, label=series_name, color=palette[series_index % len(palette)])\n",
              "\n",
              "fig, ax = plt.subplots(figsize=(10, 5.2), layout='constrained')\n",
              "df_sorted = _df_0.sort_values('index', ascending=True)\n",
              "_plot_series(df_sorted, '')\n",
              "sns.despine(fig=fig, ax=ax)\n",
              "plt.xlabel('index')\n",
              "_ = plt.ylabel('count()')"
            ],
            "text/html": [
              "      <div class=\"colab-quickchart-chart-with-code\" id=\"chart-755d4242-2ab6-43bc-afcd-9ea9721de58e\">\n",
              "        <img style=\"width: 180px;\" src=\"data:image/png;base64,iVBORw0KGgoAAAANSUhEUgAAA/MAAAITCAYAAABLz0yVAAAAOnRFWHRTb2Z0d2FyZQBNYXRwbG90\n",
              "bGliIHZlcnNpb24zLjEwLjAsIGh0dHBzOi8vbWF0cGxvdGxpYi5vcmcvlHJYcgAAAAlwSFlzAAAP\n",
              "YQAAD2EBqD+naQAAI4RJREFUeJzt3X+slvV9//HX8ZzkWDsFDCgkcKBwOLb1F4IQfnQz2jQzxl+T\n",
              "tboNF1L5oVuMGd1EMtnC6sRNpVpp4sEZVkfCzMBasiZL1G6OVjZkq+3EWTiUwzm2IF2tHNYp5XCu\n",
              "7x+m59tTfniO3pzjBx+P5Eq57+tzzv2+kk9OfPa+z3XqqqqqAgAAABTjtKEeAAAAABgYMQ8AAACF\n",
              "EfMAAABQGDEPAAAAhRHzAAAAUBgxDwAAAIUR8wAAAFAYMQ8AAACFEfNJHn744aEeAQAAAPpNzCfZ\n",
              "s2fPUI8AAAAA/SbmAQAAoDBiHgAAAAoj5gEAAKAwYh4AAAAKI+YBAACgMGIeAAAACiPmAQAAoDBi\n",
              "HgAAAAoj5gEAAKAwYh4AAAAKI+YBAACgMGIeAAAACiPmAQAAoDBiHgAAAAoj5gEAAKAwYh4AAAAK\n",
              "I+YBAACgMGIeAAAACiPmAQAAoDBiHgAAAAoj5gEAAKAwYh4AAAAKI+YBAACgMGIeAAAACiPmAQAA\n",
              "oDBiHgAAAAoj5gEAAKAwYh4AAAAKI+YBAACgMGIeAAAACiPmAQAAoDBiHgAAAAoj5gEAAKAwYh4A\n",
              "AAAKI+YBAACgMGIeAAAACiPmAQAAoDBiHgAAAAoj5gEAAKAwYh4AAAAKI+YBAACgMGIeAAAACiPm\n",
              "AQAAoDBiHgAAAAoj5gEAAKAwYh4AAAAKI+YBAACgMGIeAAAACiPmAQAAoDBiHgAAAAoj5gEAAKAw\n",
              "Yh4AAAAKI+YBAACgMGIeAAAACiPmAQAAoDBiHgAAAAoj5gEAAKAwYh4AAAAKI+YBAACgMGIeAAAA\n",
              "CiPmAQAAoDAfiJjfuXNnZs+enZaWlkyfPj3bt28/5rrHH388kydPzqRJk7Jw4cIcPny4z/mqqnLF\n",
              "FVdk+PDhgzA1AAAADI0PRMwvXrw4ixYtyo4dO7J06dLMnz//qDW7d+/O8uXLs3nz5rS1teX111/P\n",
              "mjVr+qz50pe+lEmTJg3S1AAAADA0hjzm9+/fn23btmXevHlJkrlz56azszNtbW191m3YsCHXXntt\n",
              "Ro8enbq6utx6661Zv3597/nt27fn6aefzl133XXC1zt06FC6urr6HEeOHKn9hQEAAMBJMuQx39nZ\n",
              "mTFjxqShoSFJUldXl6ampnR0dPRZ19HRkfHjx/c+njBhQu+aw4cPZ+HChWltbU19ff0JX2/lypUZ\n",
              "NmxYn2Pr1q01vioAAAA4eYY85mthxYoVueGGG/KJT3ziXdcuW7YsBw4c6HPMmDFjEKYEAACA2mgY\n",
              "6gHGjRuXvXv3pru7Ow0NDamqKh0dHWlqauqzrqmpKbt27ep93N7e3rvm+eefT0dHR1avXp3u7u50\n",
              "dXVlwoQJefHFFzNq1Kg+36exsTGNjY19nnu3d/MBAADgg2TI35k/55xzMnXq1Kxbty5JsnHjxowd\n",
              "OzbNzc191s2dOzebNm3Kvn37UlVVHn300dx0001Jks2bN2fPnj1pb2/Pt771rZx11llpb28/KuQB\n",
              "AADgVDDkMZ8kra2taW1tTUtLS+67776sXbs2SbJgwYJs2rQpSTJx4sSsWLEic+bMSXNzc0aNGpXF\n",
              "ixcP5dgAAAAwJOqqqqqGeoihtmTJkqxatWqoxwAAAIB++UC8Mw8AAAD0n5gHAACAwoh5AAAAKIyY\n",
              "BwAAgMKIeQAAACiMmAcAAIDCiHkAAAAojJgHAACAwoh5AAAAKIyYBwAAgMKIeQAAACiMmAcAAIDC\n",
              "iHkAAAAojJgHAACAwoh5AAAAKIyYBwAAgMKIeQAAACiMmAcAAIDCiHkAAAAojJgHAACAwoh5AAAA\n",
              "KIyYBwAAgMKIeQAAACiMmAcAAIDCiHkAAAAojJgHAACAwoh5AAAAKIyYBwAAgMKIeQAAACiMmAcA\n",
              "AIDCiHkAAAAojJgHAACAwoh5AAAAKIyYBwAAgMKIeQAAACiMmAcAAIDCiHkAAAAojJgHAACAwoh5\n",
              "AAAAKIyYBwAAgMKIeQAAACiMmAcAAIDCiHkAAAAojJgHAACAwoh5AAAAKIyYBwAAgMKIeQAAACiM\n",
              "mAcAAIDCiHkAAAAojJgHAACAwoh5AAAAKIyYBwAAgMKIeQAAACiMmAcAAIDCiHkAAAAojJgHAACA\n",
              "woh5AAAAKIyYBwAAgMKIeQAAACiMmAcAAIDCiHkAAAAojJgHAACAwoh5AAAAKIyYBwAAgMKIeQAA\n",
              "ACiMmAcAAIDCiHkAAAAojJgHAACAwoh5AAAAKIyYBwAAgMKIeQAAACiMmAcAAIDCiHkAAAAojJgH\n",
              "AACAwoh5AAAAKIyYBwAAgMKIeQAAACiMmAcAAIDCfCBifufOnZk9e3ZaWloyffr0bN++/ZjrHn/8\n",
              "8UyePDmTJk3KwoULc/jw4STJN7/5zcyYMSOf/OQnc/755+fOO+9MT0/PYF4CAAAADJoPRMwvXrw4\n",
              "ixYtyo4dO7J06dLMnz//qDW7d+/O8uXLs3nz5rS1teX111/PmjVrkiQjRozI3//93+eVV17Jf/zH\n",
              "f+SFF17IE088MchXAQAAAINjyGN+//792bZtW+bNm5ckmTt3bjo7O9PW1tZn3YYNG3Lttddm9OjR\n",
              "qaury6233pr169cnSS655JJMnDgxSXL66adnypQpaW9vP+brHTp0KF1dXX2OI0eOnLwLBAAAgBob\n",
              "8pjv7OzMmDFj0tDQkCSpq6tLU1NTOjo6+qzr6OjI+PHjex9PmDDhqDVJsm/fvmzYsCFXX331MV9v\n",
              "5cqVGTZsWJ9j69atNbwiAAAAOLmGPOZrqaurK9dcc03uvPPOXHrppcdcs2zZshw4cKDPMWPGjEGe\n",
              "FAAAAN67hqEeYNy4cdm7d2+6u7vT0NCQqqrS0dGRpqamPuuampqya9eu3sft7e191hw8eDBXXnll\n",
              "rrvuuixZsuS4r9fY2JjGxsY+z9XX19foagAAAODkG/J35s8555xMnTo169atS5Js3LgxY8eOTXNz\n",
              "c591c+fOzaZNm7Jv375UVZVHH300N910U5Lkf//3f3PllVfmyiuvzN133z3o1wAAAACDachjPkla\n",
              "W1vT2tqalpaW3HfffVm7dm2SZMGCBdm0aVOSZOLEiVmxYkXmzJmT5ubmjBo1KosXL06SPPzww9m6\n",
              "dWueeuqpTJkyJVOmTMlf/uVfDtn1AAAAwMlUV1VVNdRDDLUlS5Zk1apVQz0GAAAA9MsH4p15AAAA\n",
              "oP/EPAAAABRGzAMAAEBhxDwAAAAURswDAABAYcQ8AAAAFEbMAwAAQGHEPAAAABRGzAMAAEBhxDwA\n",
              "AAAURswDAABAYcQ8AAAAFEbMAwAAQGHEPAAAABRGzAMAAEBhxDwAAAAURswDAABAYcQ8AAAAFEbM\n",
              "AwAAQGHEPAAAABRGzAMAAEBhxDwAAAAURswDAABAYcQ8AAAAFEbMAwAAQGHEPAAAABRGzAMAAEBh\n",
              "xDwAAAAURswDAABAYcQ8AAAAFEbMAwAAQGHEPAAAABRGzAMAAEBhxDwAAAAURswDAABAYcQ8AAAA\n",
              "FEbMAwAAQGHEPAAAABRGzAMAAEBhxDwAAAAURswDAABAYcQ8AAAAFEbMAwAAQGHEPAAAABRGzAMA\n",
              "AEBhxDwAAAAURswDAABAYcQ8AAAAFEbMAwAAQGHEPAAAABRGzAMAAEBhxDwAAAAURswDAABAYcQ8\n",
              "AAAAFEbMAwAAQGHEPAAAABRGzAMAAEBhxDwAAAAURswDAABAYcQ8AAAAFEbMAwAAQGHEPAAAABRG\n",
              "zAMAAEBhxDwAAAAUpuG9fNErr7yS1157LR/5yEdy4YUXZvjw4TUeCwAAADiefsf8wYMH88ADD+Sx\n",
              "xx7LGWeckXPPPTdvv/12du3alRkzZmTp0qX59Kc/fTJnBQAAADKAmL/88svz+7//+/nOd76Tc889\n",
              "t/f5np6ebN68OY8++mja2tqyePHikzIoAAAA8I5+x/y3v/3tNDY2HvX8aaedlssuuyyXXXZZDh06\n",
              "VNPhAAAAgKP1+wZ4xwr597IGAAAAeH/6HfNXX311XnjhhWOee/PNN/Pggw+mtbW1ZoMBAAAAx9bv\n",
              "j9nfe++9WbZsWV555ZVMnz699wZ4r776an74wx/mD//wD/P5z3/+ZM4KAAAAZAAxf9FFF+Ub3/hG\n",
              "Ojs78/zzz+e1117LGWeckd/7vd/Lpz71qTQ0vKe/cgcAAAAM0IAL/Kc//WnmzZvX57nvfe97ueii\n",
              "i2o2FAAAAHB8/f6d+V+YP39+v54DAAAATo5+vzO/f//+7Nu3L2+99Vb+67/+K1VVJUkOHDiQn/3s\n",
              "ZydtQAAAAKCvfsf8+vXr89BDD+VHP/pRrr322t7nhw0bljvvvPOkDAcAAAAcrd8xf8cdd+SOO+7I\n",
              "F7/4xSxfvvxkzgQAAACcwIBvgLd8+fL09PRk37596e7u7n2+qamppoMBAAAAxzbgG+B99atfzfDh\n",
              "w3PhhRdm2rRpmTZtWi699NL3NcTOnTsze/bstLS0ZPr06dm+ffsx1z3++OOZPHlyJk2alIULF+bw\n",
              "4cP9OgcAAACnkgHH/F/8xV/kxRdfzE9+8pP8+Mc/zo9//OPs37//fQ2xePHiLFq0KDt27MjSpUuP\n",
              "eXf83bt3Z/ny5dm8eXPa2try+uuvZ82aNe96DgAAAE41A475kSNH5rzzzqvZAPv378+2bdt6/3b9\n",
              "3Llz09nZmba2tj7rNmzYkGuvvTajR49OXV1dbr311qxfv/5dzwEAAMCpZsAxf/311+ehhx7K/v37\n",
              "09XV1Xu8V52dnRkzZkwaGt759f26uro0NTWlo6Ojz7qOjo6MHz++9/GECRN615zo3K86dOhQn7m7\n",
              "urpy5MiR9zw/AAAADLYBx/yf/umfZsmSJRk9enRGjBiR4cOHZ8SIESdjtpNi5cqVGTZsWJ9j69at\n",
              "Qz0WAAAA9NuAY76np6f3OHLkSO//vlfjxo3L3r17e++MX1VVOjo6jro7flNTU/bs2dP7uL29vXfN\n",
              "ic79qmXLluXAgQN9jhkzZrzn+QEAAGCwDTjma+2cc87J1KlTs27duiTJxo0bM3bs2DQ3N/dZN3fu\n",
              "3GzatCn79u1LVVV59NFHc9NNN73ruV/V2NiYs846q89RX19/ci8SAAAAamjAMX/aaaelvr7+qOP9\n",
              "aG1tTWtra1paWnLfffdl7dq1SZIFCxZk06ZNSZKJEydmxYoVmTNnTpqbmzNq1KgsXrz4Xc8BAADA\n",
              "qaauqqpqIF/ws5/9rPffb731Vp544okcOXIkf/Inf1Lz4QbLkiVLsmrVqqEeAwAAAPplwO/Mf/Sj\n",
              "H+09Ro4cmSVLlmTDhg0nYzYAAADgGN7378y/+uqr+Z//+Z9azAIAAAD0Q8NAv2DEiBGpq6tLkt47\n",
              "0D/yyCO1nQoAAAA4rgHH/EsvvfT/v7ihIaNHj3Y3eAAAABhEA4758ePH5//+7/96o37EiBE544wz\n",
              "aj0XAAAAcBwDjvkXXnghc+fOzejRo5Mkr7/+ejZu3JhZs2bVfDgAAADgaAOO+V/cvX7OnDlJ3on7\n",
              "P/qjP8q//du/1Xw4AAAA4GgDvpv9W2+91RvySTJ79uy8/fbbNR0KAAAAOL4Bx/yv/dqv5dlnn+19\n",
              "/Nxzz+WjH/1oTYcCAAAAjm/AH7P/8pe/nBtuuKH3DvY9PT156qmnaj4YAAAAcGwDjvkf/ehH2bZt\n",
              "W15//fUkybnnnputW7fWfDAAAADg2Ab8Mfvly5dn1KhRueCCC3LBBRdk5MiRWb58+cmYDQAAADiG\n",
              "Acf8r6qrq8uRI0dqMQsAAADQDwOO+TPPPDMvvPBC7+Nvf/vbOfPMM2s6FAAAAHB8A/6d+b/+67/O\n",
              "b/3Wb+XjH/94kmTnzp352te+VvPBAAAAgGMbcMzPmjUr//3f/50tW7YkeefvzA8fPrzWcwEAAADH\n",
              "MeCYT5IRI0bkqquuqvUsAAAAQD+87xvgAQAAAINLzAMAAEBhxDwAAAAURswDAABAYcQ8AAAAFEbM\n",
              "AwAAQGHEPAAAABRGzAMAAEBhxDwAAAAURswDAABAYcQ8AAAAFEbMAwAAQGHEPAAAABRGzAMAAEBh\n",
              "xDwAAAAURswDAABAYcQ8AAAAFEbMAwAAQGHEPAAAABRGzAMAAEBhxDwAAAAURswDAABAYcQ8AAAA\n",
              "FEbMAwAAQGHEPAAAABRGzAMAAEBhxDwAAAAURswDAABAYcQ8AAAAFEbMAwAAQGHEPAAAABRGzAMA\n",
              "AEBhxDwAAAAURswDAABAYcQ8AAAAFEbMAwAAQGHEPAAAABRGzAMAAEBhxDwAAAAURswDAABAYcQ8\n",
              "AAAAFEbMAwAAQGHEPAAAABRGzAMAAEBhxDwAAAAURswDAABAYcQ8AAAAFEbMAwAAQGHEPAAAABRG\n",
              "zAMAAEBhxDwAAAAURswDAABAYcQ8AAAAFEbMAwAAQGHEPAAAABRGzAMAAEBhxDwAAAAURswDAABA\n",
              "YcQ8AAAAFEbMAwAAQGHEPAAAABRGzAMAAEBhhjTme3p6cvvtt2fSpElpbm7O6tWrj7t2586dmT17\n",
              "dlpaWjJ9+vRs3749SfL222/n+uuvT0tLSy6++OJ85jOfSVtb22BdAgAAAAy6IY35devW5ZVXXsmO\n",
              "HTuydevW3H///b2R/qsWL16cRYsWZceOHVm6dGnmz5/fe27RokX5/ve/n+9+97u57rrrsmDBgkG6\n",
              "AgAAABh8QxrzTz75ZBYuXJj6+vqcffbZufHGG7N+/fqj1u3fvz/btm3LvHnzkiRz585NZ2dn2tra\n",
              "cvrpp+eqq65KXV1dkmTmzJlpb28/7mseOnQoXV1dfY4jR46clOsDAACAk2FIY76joyPjx4/vfTxh\n",
              "woR0dHQcta6zszNjxoxJQ0NDkqSuri5NTU3HXPvwww/nuuuuO+5rrly5MsOGDetzbN26tQZXAwAA\n",
              "AIPjpMb8rFmzMnLkyGMenZ2dNX+9e++9N21tbVm5cuVx1yxbtiwHDhzoc8yYMaPmswAAAMDJ0nAy\n",
              "v/mWLVtOeL6pqSl79uzJrFmzkiTt7e1pamo6at24ceOyd+/edHd3p6GhIVVVpaOjo8/aBx54IE89\n",
              "9VSeffbZnHHGGcd9zcbGxjQ2NvZ5rr6+fiCXBQAAAENqSD9m/9nPfjaPPfZYjhw5kjfeeCNPPvlk\n",
              "brzxxqPWnXPOOZk6dWrWrVuXJNm4cWPGjh2b5ubmJMmqVauyfv36PPPMMxk+fPhgXgIAAAAMupP6\n",
              "zvy7ufnmm/Piiy9m8uTJqaury5IlS3LhhRcmSTZt2pRNmzblb/7mb5Ikra2tmT9/fu69996cddZZ\n",
              "Wbt2bZLktddeyxe+8IVMnDgxl19+eZJ33n3/93//96G5KAAAADjJ6qqqqoZ6iKG2ZMmSrFq1aqjH\n",
              "AAAAgH4Z0o/ZAwAAAAMn5gEAAKAwYh4AAAAKI+YBAACgMGIeAAAACiPmAQAAoDBiHgAAAAoj5gEA\n",
              "AKAwYh4AAAAKI+YBAACgMGIeAAAACiPmAQAAoDBiHgAAAAoj5gEAAKAwYh4AAAAKI+YBAACgMGIe\n",
              "AAAACiPmAQAAoDBiHgAAAAoj5gEAAKAwYh4AAAAKI+YBAACgMGIeAAAACiPmAQAAoDBiHgAAAAoj\n",
              "5gEAAKAwYh4AAAAKI+YBAACgMGIeAAAACiPmAQAAoDBiHgAAAAoj5gEAAKAwYh4AAAAKI+YBAACg\n",
              "MGIeAAAACiPmAQAAoDBiHgAAAAoj5gEAAKAwYh4AAAAKI+YBAACgMGIeAAAACiPmAQAAoDBiHgAA\n",
              "AAoj5gEAAKAwYh4AAAAKI+YBAACgMGIeAAAACiPmAQAAoDBiHgAAAAoj5gEAAKAwYh4AAAAKI+YB\n",
              "AACgMGIeAAAACiPmAQAAoDBiHgAAAAoj5gEAAKAwYh4AAAAKI+YBAACgMGIeAAAACiPmAQAAoDBi\n",
              "HgAAAAoj5gEAAKAwYh4AAAAKI+YBAACgMGIeAAAACiPmAQAAoDBiHgAAAAoj5gEAAKAwYh4AAAAK\n",
              "I+YBAACgMGIeAAAACiPmAQAAoDBiHgAAAAoj5gEAAKAwYh4AAAAKI+YBAACgMGIeAAAACiPmAQAA\n",
              "oDBDGvM9PT25/fbbM2nSpDQ3N2f16tXHXbtz587Mnj07LS0tmT59erZv337UmrVr16auri5PP/30\n",
              "SZwaAAAAhtaQxvy6devyyiuvZMeOHdm6dWvuv//+Y0Z6kixevDiLFi3Kjh07snTp0syfP7/P+fb2\n",
              "9jz22GOZOXPmIEwOAAAAQ2dIY/7JJ5/MwoULU19fn7PPPjs33nhj1q9ff9S6/fv3Z9u2bZk3b16S\n",
              "ZO7cuens7ExbW1uSd97hX7BgQR555JE0Njae8DUPHTqUrq6uPseRI0dqf3EAAABwkgxpzHd0dGT8\n",
              "+PG9jydMmJCOjo6j1nV2dmbMmDFpaGhIktTV1aWpqal37apVqzJnzpxMmzbtXV9z5cqVGTZsWJ9j\n",
              "69atNboiAAAAOPlOaszPmjUrI0eOPObR2dlZk9d4+eWXs3Hjxtx99939Wr9s2bIcOHCgzzFjxoya\n",
              "zAIAAACDoeFkfvMtW7ac8HxTU1P27NmTWbNmJXnn996bmpqOWjdu3Ljs3bs33d3daWhoSFVV6ejo\n",
              "SFNTU5555pm0t7dn8uTJSZJ9+/Zl0aJF2bt3b2677bajvldjY+NRH8Wvr69/r5cIAAAAg25IP2b/\n",
              "2c9+No899liOHDmSN954I08++WRuvPHGo9adc845mTp1atatW5ck2bhxY8aOHZvm5ubcdttt2bt3\n",
              "b9rb29Pe3p6ZM2dmzZo1xwx5AAAAOBUMaczffPPN+fjHP57Jkydn+vTpWbJkSS688MIkyaZNm7Jg\n",
              "wYLeta2trWltbU1LS0vuu+++rF27dqjGBgAAgCFVV1VVNdRDDLUlS5Zk1apVQz0GAAAA9MuQvjMP\n",
              "AAAADJyYBwAAgMKIeQAAACiMmAcAAIDCiHkAAAAojJgHAACAwoh5AAAAKIyYBwAAgMKIeQAAACiM\n",
              "mAcAAIDCiHkAAAAojJgHAACAwoh5AAAAKIyYBwAAgMKIeQAAACiMmAcAAIDCiHkAAAAojJgHAACA\n",
              "woh5AAAAKIyYBwAAgMKIeQAAACiMmAcAAIDCiHkAAAAojJgHAACAwoh5AAAAKIyYBwAAgMKIeQAA\n",
              "ACiMmAcAAIDCiHkAAAAojJgHAACAwoh5AAAAKIyYBwAAgMKIeQAAACiMmAcAAIDCiHkAAAAojJgH\n",
              "AACAwoh5AAAAKIyYBwAAgMKIeQAAACiMmAcAAIDCiHkAAAAojJgHAACAwoh5AAAAKIyYBwAAgMKI\n",
              "eQAAACiMmAcAAIDCiHkAAAAojJgHAACAwoh5AAAAKIyYBwAAgMKIeQAAACiMmAcAAIDCiHkAAAAo\n",
              "jJgHAACAwoh5AAAAKIyYBwAAgMKIeQAAACiMmAcAAIDCiHkAAAAojJgHAACAwtRVVVUN9RBD7YYb\n",
              "bsiECROGegyGwJEjR7J169bMmDEj9fX1Qz0OHJN9SgnsU0phr1IC+5Tx48fnjjvuOOEaMc+HWldX\n",
              "V4YNG5YDBw7krLPOGupx4JjsU0pgn1IKe5US2Kf0h4/ZAwAAQGHEPAAAABRGzAMAAEBhxDwfao2N\n",
              "jfnzP//zNDY2DvUocFz2KSWwTymFvUoJ7FP6ww3wAAAAoDDemQcAAIDCiHkAAAAojJgHAACAwoh5\n",
              "Tnk9PT25/fbbM2nSpDQ3N2f16tXHXbtz587Mnj07LS0tmT59erZv337UmrVr16auri5PP/30SZya\n",
              "D5ta7NO33347119/fVpaWnLxxRfnM5/5TNra2gbrEjiF9ednY5I8/vjjmTx5ciZNmpSFCxfm8OHD\n",
              "/ToHtfB+9+k3v/nNzJgxI5/85Cdz/vnn584770xPT89gXgIfArX4eZokVVXliiuuyPDhwwdhaj6w\n",
              "KjjFffWrX62uuOKKqru7u/rJT35SNTU1VS+//PIx115++eXV2rVrq6qqqn/4h3+oLr300j7nd+/e\n",
              "Xc2aNauaOXNm9bWvfe0kT86HSS326VtvvVV94xvfqHp6eqqqqqpHHnmkuuyyywZjfE5x7/azsaqq\n",
              "6gc/+EE1ZsyYau/evVVPT091zTXXVKtXr37Xc1Ar73ef/ud//me1a9euqqre+Xk6Z86c3u8HtfJ+\n",
              "9+kvPPjgg9WCBQuqYcOGDcLUfFB5Z55T3pNPPpmFCxemvr4+Z599dm688casX7/+qHX79+/Ptm3b\n",
              "Mm/evCTJ3Llz09nZ2fvOZk9PTxYsWJBHHnnEnwmh5mqxT08//fRcddVVqaurS5LMnDkz7e3tg3kZ\n",
              "nILe7WfjL2zYsCHXXnttRo8enbq6utx66629e/hE56AWarFPL7nkkkycODFJcvrpp2fKlCl+hlJT\n",
              "tdinSbJ9+/Y8/fTTueuuuwZ1fj54xDynvI6OjowfP7738YQJE9LR0XHUus7OzowZMyYNDQ1Jkrq6\n",
              "ujQ1NfWuXbVqVebMmZNp06YNzuB8qNRqn/6yhx9+ONddd93JG5oPhf7uuRPt4f7ub3ivarFPf9m+\n",
              "ffuyYcOGXH311Sd3cD5UarFPDx8+nIULF6a1tTX19fWDNzwfSA1DPQC8X7NmzcrOnTuPee473/lO\n",
              "TV7j5ZdfzsaNG/Ov//qvNfl+fPgMxj79Zffee2/a2try3HPP1fx7A5zKurq6cs011+TOO+/MpZde\n",
              "OtTjQB8rVqzIDTfckE984hM+OYKYp3xbtmw54fmmpqbs2bMns2bNSpK0t7enqanpqHXjxo3L3r17\n",
              "093dnYaGhlRVlY6OjjQ1NeWZZ55Je3t7Jk+enOSd/8d+0aJF2bt3b2677bbaXxSnnMHYp7/wwAMP\n",
              "5Kmnnsqzzz6bM844o7YXwodOf/Zc8s4e3rVrV+/jX97DJzoHtVCLfZokBw8ezJVXXpnrrrsuS5Ys\n",
              "GbT5+XCoxT59/vnn09HRkdWrV6e7uztdXV2ZMGFCXnzxxYwaNWpQr4cPgCH9jX0YBGvXrj3qxmLf\n",
              "+973jrn2sssu63NTkmnTph13nRvgUUu12qcPPvhgNXXq1OqNN94YjLH5kOjPz8Zdu3YddcOmRx55\n",
              "5F3PQa2833168ODBavbs2dWKFSsGc2w+ZN7vPv1lu3fvdgO8Dzkxzymvu7u7+oM/+IPqYx/7WDVx\n",
              "4sTqoYce6j339a9/vbrlllt6H7/66qvVzJkzq8mTJ1fTpk07YUyJeWqpFvu0s7OzSlJNnDixuvji\n",
              "i6uLL764mjFjxqBfC6ee4+25W265pfr617/eu27NmjXVxIkTq4kTJ1af//znq5///Of9Oge18H73\n",
              "6T333FM1NDT0/vy8+OKLq3vuuWdIroVTVy1+nv6CmKeuqqpqqD8dAAAAAPSfu9kDAABAYcQ8AAAA\n",
              "FEbMAwAAQGHEPADQx5QpU3Lw4MEBf91v//Zv52//9m9rPxAAcBR/Zx4A6OOll14a6hEAgHfhnXkA\n",
              "oI+6urq8+eabSZIJEybkz/7szzJr1qx87GMfyz333NO77tVXX83s2bNz/vnn5/rrr09XV1fvuYMH\n",
              "D2bhwoWZMWNGLrrooixatCg///nP8/3vfz9jx47ND37wgyTJAw88kCuvvDI9PT2Deo0AUDoxDwCc\n",
              "0JtvvpktW7bkxRdfzP33358f/vCHSZKbb745t9xyS7Zv354vfvGLef7553u/5gtf+EJ+/dd/PVu3\n",
              "bs13v/vd9PT05OGHH855552X+++/P5/73OfyL//yL/nKV76Sv/u7v8tpp/lPEgAYCB+zBwBO6Hd/\n",
              "93eTJCNHjszEiROze/funHnmmXnppZcyf/78JMmFF16YT33qU71f8/TTT2fLli1ZtWpVkuStt95K\n",
              "fX19kuR3fud38s///M/5zd/8zTz33HMZNWrU4F4QAJwCxDwAcEKnn35677/r6+vT3d19zHV1dXW9\n",
              "/66qKhs3bkxLS8tR67q7u/Pyyy/n7LPP7n2XHwAYGJ9pAwAG7Kyzzsoll1ySJ554Ikmyffv2fOtb\n",
              "3+o9f/311+ev/uqvesP/pz/9adra2pIkd911V84777xs3rw5f/zHf9z7PADQf2IeAHhPnnjiiaxZ\n",
              "syYXXHBB7r777vzGb/xG77kvfelL+chHPpIpU6bkoosuyqc//em0t7fnH//xH/NP//RP+cpXvpLm\n",
              "5uasWrUqn/vc5/L2228P4ZUAQHnqqqqqhnoIAAAAoP+8Mw8AAACFEfMAAABQGDEPAAAAhRHzAAAA\n",
              "UBgxDwAAAIUR8wAAAFAYMQ8AAACFEfMAAABQGDEPAAAAhRHzAAAAUJj/B1WdTR1jE+1WAAAAAElF\n",
              "TkSuQmCC\n",
              "\">\n",
              "      </div>\n",
              "      <script type=\"text/javascript\">\n",
              "        (() => {\n",
              "          const chartElement = document.getElementById(\"chart-755d4242-2ab6-43bc-afcd-9ea9721de58e\");\n",
              "          async function getCodeForChartHandler(event) {\n",
              "            const chartCodeResponse =  await google.colab.kernel.invokeFunction(\n",
              "                'getCodeForChart', [\"chart-755d4242-2ab6-43bc-afcd-9ea9721de58e\"], {});\n",
              "            const responseJson = chartCodeResponse.data['application/json'];\n",
              "            await google.colab.notebook.addCell(responseJson.code, 'code');\n",
              "          }\n",
              "          chartElement.onclick = getCodeForChartHandler;\n",
              "        })();\n",
              "      </script>\n",
              "      <style>\n",
              "        .colab-quickchart-chart-with-code  {\n",
              "            display: block;\n",
              "            float: left;\n",
              "            border: 1px solid transparent;\n",
              "        }\n",
              "\n",
              "        .colab-quickchart-chart-with-code:hover {\n",
              "            cursor: pointer;\n",
              "            border: 1px solid #aaa;\n",
              "        }\n",
              "      </style>"
            ]
          },
          "metadata": {}
        }
      ]
    },
    {
      "cell_type": "markdown",
      "source": [
        "***Trying CompoundV3***"
      ],
      "metadata": {
        "id": "ykscb1T1ykpB"
      }
    },
    {
      "cell_type": "code",
      "source": [
        "import pandas as pd\n",
        "import requests\n",
        "import time\n",
        "\n",
        "# Load your wallet list\n",
        "wallet_df = pd.read_csv(\"/content/Wallet id - Sheet1.csv\")\n",
        "wallets = wallet_df['wallet_id'].dropna().str.lower().unique().tolist()\n",
        "\n",
        "# Compound V3 (community-maintained) subgraph endpoint\n",
        "COMPOUND_V3_URL = \"https://api.thegraph.com/subgraphs/name/0xngmi/compound-v3\"\n",
        "\n",
        "# GraphQL query template\n",
        "def fetch_compound_v3(wallet):\n",
        "    query = \"\"\"\n",
        "    {\n",
        "      user(id: \"%s\") {\n",
        "        id\n",
        "        collateralBalance\n",
        "        baseBalance\n",
        "        debtValue\n",
        "        baseToken {\n",
        "          symbol\n",
        "        }\n",
        "        positions {\n",
        "          asset {\n",
        "            symbol\n",
        "          }\n",
        "          balance\n",
        "          isCollateral\n",
        "        }\n",
        "      }\n",
        "    }\n",
        "    \"\"\" % wallet.lower()\n",
        "\n",
        "    response = requests.post(COMPOUND_V3_URL, json={\"query\": query})\n",
        "    if response.ok:\n",
        "        return response.json().get(\"data\", {}).get(\"user\")\n",
        "    else:\n",
        "        print(f\"Error for {wallet}\")\n",
        "        return None\n",
        "\n",
        "# Fetch data for all wallets\n",
        "compound_v3_data = []\n",
        "\n",
        "for i, wallet in enumerate(wallets):\n",
        "    print(f\"{i+1}/{len(wallets)} — Fetching: {wallet}\")\n",
        "    user = fetch_compound_v3(wallet)\n",
        "    if user:\n",
        "        for pos in user.get(\"positions\", []):\n",
        "            compound_v3_data.append({\n",
        "                \"wallet\": wallet,\n",
        "                \"base_token\": user.get(\"baseToken\", {}).get(\"symbol\"),\n",
        "                \"collateral_balance\": float(user.get(\"collateralBalance\", 0)),\n",
        "                \"base_balance\": float(user.get(\"baseBalance\", 0)),\n",
        "                \"debt_value\": float(user.get(\"debtValue\", 0)),\n",
        "                \"asset_symbol\": pos[\"asset\"][\"symbol\"],\n",
        "                \"position_balance\": float(pos[\"balance\"]),\n",
        "                \"is_collateral\": pos[\"isCollateral\"]\n",
        "            })\n",
        "    time.sleep(0.3)  # To avoid rate limits\n",
        "\n",
        "# Create DataFrame\n",
        "compound_v3_df = pd.DataFrame(compound_v3_data)\n",
        "compound_v3_df.head()\n"
      ],
      "metadata": {
        "colab": {
          "base_uri": "https://localhost:8080/",
          "height": 2104
        },
        "collapsed": true,
        "id": "c5Af1Ma_vqnm",
        "outputId": "8b73b8cc-4cba-4492-c217-8089fb319b8a"
      },
      "execution_count": 27,
      "outputs": [
        {
          "output_type": "stream",
          "name": "stdout",
          "text": [
            "1/103 — Fetching: 0x0039f22efb07a647557c7c5d17854cfd6d489ef3\n",
            "2/103 — Fetching: 0x06b51c6882b27cb05e712185531c1f74996dd988\n",
            "3/103 — Fetching: 0x0795732aacc448030ef374374eaae57d2965c16c\n",
            "4/103 — Fetching: 0x0aaa79f1a86bc8136cd0d1ca0d51964f4e3766f9\n",
            "5/103 — Fetching: 0x0fe383e5abc200055a7f391f94a5f5d1f844b9ae\n",
            "6/103 — Fetching: 0x104ae61d8d487ad689969a17807ddc338b445416\n",
            "7/103 — Fetching: 0x111c7208a7e2af345d36b6d4aace8740d61a3078\n",
            "8/103 — Fetching: 0x124853fecb522c57d9bd5c21231058696ca6d596\n",
            "9/103 — Fetching: 0x13b1c8b0e696aff8b4fee742119b549b605f3cbc\n",
            "10/103 — Fetching: 0x1656f1886c5ab634ac19568cd571bc72f385fdf7\n",
            "11/103 — Fetching: 0x1724e16cb8d0e2aa4d08035bc6b5c56b680a3b22\n",
            "12/103 — Fetching: 0x19df3e87f73c4aaf4809295561465b993e102668\n",
            "13/103 — Fetching: 0x1ab2ccad4fc97c9968ea87d4435326715be32872\n",
            "14/103 — Fetching: 0x1c1b30ca93ef57452d53885d97a74f61daf2bf4f\n",
            "15/103 — Fetching: 0x1e43dacdcf863676a6bec8f7d6896d6252fac669\n",
            "16/103 — Fetching: 0x22d7510588d90ed5a87e0f838391aaafa707c34b\n",
            "17/103 — Fetching: 0x24b3460622d835c56d9a4fe352966b9bdc6c20af\n",
            "18/103 — Fetching: 0x26750f1f4277221bdb5f6991473c6ece8c821f9d\n",
            "19/103 — Fetching: 0x27f72a000d8e9f324583f3a3491ea66998275b28\n",
            "20/103 — Fetching: 0x2844658bf341db96aa247259824f42025e3bcec2\n",
            "21/103 — Fetching: 0x2a2fde3e1beb508fcf7c137a1d5965f13a17825e\n",
            "22/103 — Fetching: 0x330513970efd9e8dd606275fb4c50378989b3204\n",
            "23/103 — Fetching: 0x3361bea43c2f5f963f81ac70f64e6fba1f1d2a97\n",
            "24/103 — Fetching: 0x3867d222ba91236ad4d12c31056626f9e798629c\n",
            "25/103 — Fetching: 0x3a44be4581137019f83021eeee72b7dc57756069\n",
            "26/103 — Fetching: 0x3e69ad05716bdc834db72c4d6d44439a7c8a902b\n",
            "27/103 — Fetching: 0x427f2ac5fdf4245e027d767e7c3ac272a1f40a65\n",
            "28/103 — Fetching: 0x4814be124d7fe3b240eb46061f7ddfab468fe122\n",
            "29/103 — Fetching: 0x4839e666e2baf12a51bf004392b35972eeddeabf\n",
            "30/103 — Fetching: 0x4c4d05fe859279c91b074429b5fc451182cec745\n",
            "31/103 — Fetching: 0x4d997c89bc659a3e8452038a8101161e7e7e53a7\n",
            "32/103 — Fetching: 0x4db0a72edb5ea6c55df929f76e7d5bb14e389860\n",
            "33/103 — Fetching: 0x4e61251336c32e4fe6bfd5fab014846599321389\n",
            "34/103 — Fetching: 0x4e6e724f4163b24ffc7ffe662b5f6815b18b4210\n",
            "35/103 — Fetching: 0x507b6c0d950702f066a9a1bd5e85206f87b065ba\n",
            "36/103 — Fetching: 0x54e19653be9d4143b08994906be0e27555e8834d\n",
            "37/103 — Fetching: 0x56ba823641bfc317afc8459bf27feed6eb9ff59f\n",
            "38/103 — Fetching: 0x56cc2bffcb3f86a30c492f9d1a671a1f744d1d2f\n",
            "39/103 — Fetching: 0x578cea5f899b0dfbf05c7fbcfda1a644b2a47787\n",
            "40/103 — Fetching: 0x58c2a9099a03750e9842d3e9a7780cdd6aa70b86\n",
            "41/103 — Fetching: 0x58d68d4bcf9725e40353379cec92b90332561683\n",
            "42/103 — Fetching: 0x5e324b4a564512ea7c93088dba2f8c1bf046a3eb\n",
            "43/103 — Fetching: 0x612a3500559be7be7703de6dc397afb541a16f7f\n",
            "44/103 — Fetching: 0x623af911f493747c216ad389c7805a37019c662d\n",
            "45/103 — Fetching: 0x6a2752a534faacaaa153bffbb973dd84e0e5497b\n",
            "46/103 — Fetching: 0x6d69ca3711e504658977367e13c300ab198379f1\n",
            "47/103 — Fetching: 0x6e355417f7f56e7927d1cd971f0b5a1e6d538487\n",
            "48/103 — Fetching: 0x70c1864282599a762c674dd9d567b37e13bce755\n",
            "49/103 — Fetching: 0x70d8e4ab175dfe0eab4e9a7f33e0a2d19f44001e\n",
            "50/103 — Fetching: 0x7399dbeebe2f88bc6ac4e3fd7ddb836a4bce322f\n",
            "51/103 — Fetching: 0x767055590c73b7d2aaa6219da13807c493f91a20\n",
            "52/103 — Fetching: 0x7851bdfb64bbecfb40c030d722a1f147dff5db6a\n",
            "53/103 — Fetching: 0x7b4636320daa0bc055368a4f9b9d01bd8ac51877\n",
            "54/103 — Fetching: 0x7b57dbe2f2e4912a29754ff3e412ed9507fd8957\n",
            "55/103 — Fetching: 0x7be3dfb5b6fcbae542ea85e76cc19916a20f6c1e\n",
            "56/103 — Fetching: 0x7de76a449cf60ea3e111ff18b28e516d89532152\n",
            "57/103 — Fetching: 0x7e3eab408b9c76a13305ef34606f17c16f7b33cc\n",
            "58/103 — Fetching: 0x7f5e6a28afc9fb0aaf4259d4ff69991b88ebea47\n",
            "59/103 — Fetching: 0x83ea74c67d393c6894c34c464657bda2183a2f1a\n",
            "60/103 — Fetching: 0x8441fecef5cc6f697be2c4fc4a36feacede8df67\n",
            "61/103 — Fetching: 0x854a873b8f9bfac36a5eb9c648e285a095a7478d\n",
            "62/103 — Fetching: 0x8587d9f794f06d976c2ec1cfd523983b856f5ca9\n",
            "63/103 — Fetching: 0x880a0af12da55df1197f41697c1a1b61670ed410\n",
            "64/103 — Fetching: 0x8aaece100580b749a20f8ce30338c4e0770b65ed\n",
            "65/103 — Fetching: 0x8be38ea2b22b706aef313c2de81f7d179024dd30\n",
            "66/103 — Fetching: 0x8d900f213db5205c529aaba5d10e71a0ed2646db\n",
            "67/103 — Fetching: 0x91919344c1dad09772d19ad8ad4f1bcd29c51f27\n",
            "68/103 — Fetching: 0x93f0891bf71d8abed78e0de0885bd26355bb8b1d\n",
            "69/103 — Fetching: 0x96479b087cb8f236a5e2dcbfc50ce63b2f421da6\n",
            "70/103 — Fetching: 0x96bb4447a02b95f1d1e85374cffd565eb22ed2f8\n",
            "71/103 — Fetching: 0x9a363adc5d382c04d36b09158286328f75672098\n",
            "72/103 — Fetching: 0x9ad1331c5b6c5a641acffb32719c66a80c6e1a17\n",
            "73/103 — Fetching: 0x9ba0d85f71e145ccf15225e59631e5a883d5d74a\n",
            "74/103 — Fetching: 0x9e6ec4e98793970a1307262ba68d37594e58cd78\n",
            "75/103 — Fetching: 0xa7e94d933eb0c439dda357f61244a485246e97b8\n",
            "76/103 — Fetching: 0xa7f3c74f0255796fd5d3ddcf88db769f7a6bf46a\n",
            "77/103 — Fetching: 0xa98dc64bb42575efec7d1e4560c029231ce5da51\n",
            "78/103 — Fetching: 0xb271ff7090b39028eb6e711c3f89a3453d5861ee\n",
            "79/103 — Fetching: 0xb475576594ae44e1f75f534f993cbb7673e4c8b6\n",
            "80/103 — Fetching: 0xb57297c5d02def954794e593db93d0a302e43e5c\n",
            "81/103 — Fetching: 0xbd4a00764217c13a246f86db58d74541a0c3972a\n",
            "82/103 — Fetching: 0xc179d55f7e00e789915760f7d260a1bf6285278b\n",
            "83/103 — Fetching: 0xc22b8e78394ce52e0034609a67ae3c959daa84bc\n",
            "84/103 — Fetching: 0xcbbd9fe837a14258286bbf2e182cbc4e4518c5a3\n",
            "85/103 — Fetching: 0xcecf5163bb057c1aff4963d9b9a7d2f0bf591710\n",
            "86/103 — Fetching: 0xcf0033bf27804640e5339e06443e208db5870dd2\n",
            "87/103 — Fetching: 0xd0df53e296c1e3115fccc3d7cdf4ba495e593b56\n",
            "88/103 — Fetching: 0xd1a3888fd8f490367c6104e10b4154427c02dd9c\n",
            "89/103 — Fetching: 0xd334d18fa6bada9a10f361bae42a019ce88a3c33\n",
            "90/103 — Fetching: 0xd9d3930ffa343f5a0eec7606d045d0843d3a02b4\n",
            "91/103 — Fetching: 0xdde73df7bd4d704a89ad8421402701b3a460c6e9\n",
            "92/103 — Fetching: 0xde92d70253604fd8c5998c8ee3ed282a41b33b7f\n",
            "93/103 — Fetching: 0xded1f838ae6aa5fcd0f13481b37ee88e5bdccb3d\n",
            "94/103 — Fetching: 0xebb8629e8a3ec86cf90cb7600264415640834483\n",
            "95/103 — Fetching: 0xeded1c8c0a0c532195b8432153f3bfa81dba2a90\n",
            "96/103 — Fetching: 0xf10fd8921019615a856c1e95c7cd3632de34edc4\n",
            "97/103 — Fetching: 0xf340b9f2098f80b86fbc5ede586c319473aa11f3\n",
            "98/103 — Fetching: 0xf54f36bca969800fd7d63a68029561309938c09b\n",
            "99/103 — Fetching: 0xf60304b534f74977e159b2e159e135475c245526\n",
            "100/103 — Fetching: 0xf67e8e5805835465f7eba988259db882ab726800\n",
            "101/103 — Fetching: 0xf7aa5d0752cfcd41b0a5945867d619a80c405e52\n",
            "102/103 — Fetching: 0xf80a8b9cfff0febf49914c269fb8aead4a22f847\n",
            "103/103 — Fetching: 0xfe5a05c0f8b24fca15a7306f6a4ebb7dcf2186ac\n"
          ]
        },
        {
          "output_type": "execute_result",
          "data": {
            "text/plain": [
              "Empty DataFrame\n",
              "Columns: []\n",
              "Index: []"
            ],
            "text/html": [
              "\n",
              "  <div id=\"df-35836255-b2fc-43bf-919d-f32148c38b8f\" class=\"colab-df-container\">\n",
              "    <div>\n",
              "<style scoped>\n",
              "    .dataframe tbody tr th:only-of-type {\n",
              "        vertical-align: middle;\n",
              "    }\n",
              "\n",
              "    .dataframe tbody tr th {\n",
              "        vertical-align: top;\n",
              "    }\n",
              "\n",
              "    .dataframe thead th {\n",
              "        text-align: right;\n",
              "    }\n",
              "</style>\n",
              "<table border=\"1\" class=\"dataframe\">\n",
              "  <thead>\n",
              "    <tr style=\"text-align: right;\">\n",
              "      <th></th>\n",
              "    </tr>\n",
              "  </thead>\n",
              "  <tbody>\n",
              "  </tbody>\n",
              "</table>\n",
              "</div>\n",
              "    <div class=\"colab-df-buttons\">\n",
              "\n",
              "  <div class=\"colab-df-container\">\n",
              "    <button class=\"colab-df-convert\" onclick=\"convertToInteractive('df-35836255-b2fc-43bf-919d-f32148c38b8f')\"\n",
              "            title=\"Convert this dataframe to an interactive table.\"\n",
              "            style=\"display:none;\">\n",
              "\n",
              "  <svg xmlns=\"http://www.w3.org/2000/svg\" height=\"24px\" viewBox=\"0 -960 960 960\">\n",
              "    <path d=\"M120-120v-720h720v720H120Zm60-500h600v-160H180v160Zm220 220h160v-160H400v160Zm0 220h160v-160H400v160ZM180-400h160v-160H180v160Zm440 0h160v-160H620v160ZM180-180h160v-160H180v160Zm440 0h160v-160H620v160Z\"/>\n",
              "  </svg>\n",
              "    </button>\n",
              "\n",
              "  <style>\n",
              "    .colab-df-container {\n",
              "      display:flex;\n",
              "      gap: 12px;\n",
              "    }\n",
              "\n",
              "    .colab-df-convert {\n",
              "      background-color: #E8F0FE;\n",
              "      border: none;\n",
              "      border-radius: 50%;\n",
              "      cursor: pointer;\n",
              "      display: none;\n",
              "      fill: #1967D2;\n",
              "      height: 32px;\n",
              "      padding: 0 0 0 0;\n",
              "      width: 32px;\n",
              "    }\n",
              "\n",
              "    .colab-df-convert:hover {\n",
              "      background-color: #E2EBFA;\n",
              "      box-shadow: 0px 1px 2px rgba(60, 64, 67, 0.3), 0px 1px 3px 1px rgba(60, 64, 67, 0.15);\n",
              "      fill: #174EA6;\n",
              "    }\n",
              "\n",
              "    .colab-df-buttons div {\n",
              "      margin-bottom: 4px;\n",
              "    }\n",
              "\n",
              "    [theme=dark] .colab-df-convert {\n",
              "      background-color: #3B4455;\n",
              "      fill: #D2E3FC;\n",
              "    }\n",
              "\n",
              "    [theme=dark] .colab-df-convert:hover {\n",
              "      background-color: #434B5C;\n",
              "      box-shadow: 0px 1px 3px 1px rgba(0, 0, 0, 0.15);\n",
              "      filter: drop-shadow(0px 1px 2px rgba(0, 0, 0, 0.3));\n",
              "      fill: #FFFFFF;\n",
              "    }\n",
              "  </style>\n",
              "\n",
              "    <script>\n",
              "      const buttonEl =\n",
              "        document.querySelector('#df-35836255-b2fc-43bf-919d-f32148c38b8f button.colab-df-convert');\n",
              "      buttonEl.style.display =\n",
              "        google.colab.kernel.accessAllowed ? 'block' : 'none';\n",
              "\n",
              "      async function convertToInteractive(key) {\n",
              "        const element = document.querySelector('#df-35836255-b2fc-43bf-919d-f32148c38b8f');\n",
              "        const dataTable =\n",
              "          await google.colab.kernel.invokeFunction('convertToInteractive',\n",
              "                                                    [key], {});\n",
              "        if (!dataTable) return;\n",
              "\n",
              "        const docLinkHtml = 'Like what you see? Visit the ' +\n",
              "          '<a target=\"_blank\" href=https://colab.research.google.com/notebooks/data_table.ipynb>data table notebook</a>'\n",
              "          + ' to learn more about interactive tables.';\n",
              "        element.innerHTML = '';\n",
              "        dataTable['output_type'] = 'display_data';\n",
              "        await google.colab.output.renderOutput(dataTable, element);\n",
              "        const docLink = document.createElement('div');\n",
              "        docLink.innerHTML = docLinkHtml;\n",
              "        element.appendChild(docLink);\n",
              "      }\n",
              "    </script>\n",
              "  </div>\n",
              "\n",
              "\n",
              "    </div>\n",
              "  </div>\n"
            ],
            "application/vnd.google.colaboratory.intrinsic+json": {
              "type": "dataframe",
              "variable_name": "compound_v3_df",
              "summary": "{\n  \"name\": \"compound_v3_df\",\n  \"rows\": 0,\n  \"fields\": []\n}"
            }
          },
          "metadata": {},
          "execution_count": 27
        }
      ]
    },
    {
      "cell_type": "markdown",
      "source": [
        "## ***Colab Code to Simulate Data***"
      ],
      "metadata": {
        "id": "4BD6AS2ZyfvY"
      }
    },
    {
      "cell_type": "code",
      "source": [
        "import pandas as pd\n",
        "import numpy as np\n",
        "import random\n",
        "import string\n",
        "from datetime import datetime, timedelta\n",
        "\n",
        "# Step 1: Generate 100 mock wallet addresses\n",
        "def generate_wallet_address():\n",
        "    return \"0x\" + ''.join(random.choices('abcdef' + string.digits, k=40))\n",
        "\n",
        "wallets = [generate_wallet_address() for _ in range(100)]\n",
        "\n",
        "# Step 2: Define mock Compound transaction actions\n",
        "compound_actions = ['mint', 'borrow', 'repayBorrow', 'redeem', 'liquidateBorrow']\n",
        "\n",
        "# Step 3: Generate random transaction history per wallet\n",
        "mock_data = []\n",
        "\n",
        "for wallet in wallets:\n",
        "    num_tx = random.randint(10, 50)\n",
        "    start_date = datetime(2023, 1, 1)\n",
        "    for _ in range(num_tx):\n",
        "        action = random.choice(compound_actions)\n",
        "        amount = round(np.random.exponential(scale=1000), 2)  # simulate skewed DeFi values\n",
        "        timestamp = start_date + timedelta(days=random.randint(0, 500))\n",
        "        mock_data.append({\n",
        "            \"wallet_id\": wallet,\n",
        "            \"action\": action,\n",
        "            \"amount\": amount,\n",
        "            \"timestamp\": timestamp\n",
        "        })\n",
        "\n",
        "# Step 4: Create DataFrame\n",
        "df = pd.DataFrame(mock_data)\n",
        "df['timestamp'] = pd.to_datetime(df['timestamp'])\n",
        "\n",
        "# Preview\n",
        "df.head()\n"
      ],
      "metadata": {
        "colab": {
          "base_uri": "https://localhost:8080/",
          "height": 206
        },
        "id": "MZkBS4yHyboy",
        "outputId": "7a94d926-b3d7-4382-c51e-1782bc7cc271"
      },
      "execution_count": 32,
      "outputs": [
        {
          "output_type": "execute_result",
          "data": {
            "text/plain": [
              "                                    wallet_id           action   amount  \\\n",
              "0  0x7d96ca126d0697d55c11f6062736f46f9a986535  liquidateBorrow   105.26   \n",
              "1  0x7d96ca126d0697d55c11f6062736f46f9a986535           borrow   685.72   \n",
              "2  0x7d96ca126d0697d55c11f6062736f46f9a986535             mint   845.24   \n",
              "3  0x7d96ca126d0697d55c11f6062736f46f9a986535           borrow   333.21   \n",
              "4  0x7d96ca126d0697d55c11f6062736f46f9a986535      repayBorrow  2628.74   \n",
              "\n",
              "   timestamp  \n",
              "0 2024-03-22  \n",
              "1 2023-06-03  \n",
              "2 2023-01-31  \n",
              "3 2024-01-16  \n",
              "4 2023-03-22  "
            ],
            "text/html": [
              "\n",
              "  <div id=\"df-f381c0b4-e7ce-428c-b03d-468a33166a74\" class=\"colab-df-container\">\n",
              "    <div>\n",
              "<style scoped>\n",
              "    .dataframe tbody tr th:only-of-type {\n",
              "        vertical-align: middle;\n",
              "    }\n",
              "\n",
              "    .dataframe tbody tr th {\n",
              "        vertical-align: top;\n",
              "    }\n",
              "\n",
              "    .dataframe thead th {\n",
              "        text-align: right;\n",
              "    }\n",
              "</style>\n",
              "<table border=\"1\" class=\"dataframe\">\n",
              "  <thead>\n",
              "    <tr style=\"text-align: right;\">\n",
              "      <th></th>\n",
              "      <th>wallet_id</th>\n",
              "      <th>action</th>\n",
              "      <th>amount</th>\n",
              "      <th>timestamp</th>\n",
              "    </tr>\n",
              "  </thead>\n",
              "  <tbody>\n",
              "    <tr>\n",
              "      <th>0</th>\n",
              "      <td>0x7d96ca126d0697d55c11f6062736f46f9a986535</td>\n",
              "      <td>liquidateBorrow</td>\n",
              "      <td>105.26</td>\n",
              "      <td>2024-03-22</td>\n",
              "    </tr>\n",
              "    <tr>\n",
              "      <th>1</th>\n",
              "      <td>0x7d96ca126d0697d55c11f6062736f46f9a986535</td>\n",
              "      <td>borrow</td>\n",
              "      <td>685.72</td>\n",
              "      <td>2023-06-03</td>\n",
              "    </tr>\n",
              "    <tr>\n",
              "      <th>2</th>\n",
              "      <td>0x7d96ca126d0697d55c11f6062736f46f9a986535</td>\n",
              "      <td>mint</td>\n",
              "      <td>845.24</td>\n",
              "      <td>2023-01-31</td>\n",
              "    </tr>\n",
              "    <tr>\n",
              "      <th>3</th>\n",
              "      <td>0x7d96ca126d0697d55c11f6062736f46f9a986535</td>\n",
              "      <td>borrow</td>\n",
              "      <td>333.21</td>\n",
              "      <td>2024-01-16</td>\n",
              "    </tr>\n",
              "    <tr>\n",
              "      <th>4</th>\n",
              "      <td>0x7d96ca126d0697d55c11f6062736f46f9a986535</td>\n",
              "      <td>repayBorrow</td>\n",
              "      <td>2628.74</td>\n",
              "      <td>2023-03-22</td>\n",
              "    </tr>\n",
              "  </tbody>\n",
              "</table>\n",
              "</div>\n",
              "    <div class=\"colab-df-buttons\">\n",
              "\n",
              "  <div class=\"colab-df-container\">\n",
              "    <button class=\"colab-df-convert\" onclick=\"convertToInteractive('df-f381c0b4-e7ce-428c-b03d-468a33166a74')\"\n",
              "            title=\"Convert this dataframe to an interactive table.\"\n",
              "            style=\"display:none;\">\n",
              "\n",
              "  <svg xmlns=\"http://www.w3.org/2000/svg\" height=\"24px\" viewBox=\"0 -960 960 960\">\n",
              "    <path d=\"M120-120v-720h720v720H120Zm60-500h600v-160H180v160Zm220 220h160v-160H400v160Zm0 220h160v-160H400v160ZM180-400h160v-160H180v160Zm440 0h160v-160H620v160ZM180-180h160v-160H180v160Zm440 0h160v-160H620v160Z\"/>\n",
              "  </svg>\n",
              "    </button>\n",
              "\n",
              "  <style>\n",
              "    .colab-df-container {\n",
              "      display:flex;\n",
              "      gap: 12px;\n",
              "    }\n",
              "\n",
              "    .colab-df-convert {\n",
              "      background-color: #E8F0FE;\n",
              "      border: none;\n",
              "      border-radius: 50%;\n",
              "      cursor: pointer;\n",
              "      display: none;\n",
              "      fill: #1967D2;\n",
              "      height: 32px;\n",
              "      padding: 0 0 0 0;\n",
              "      width: 32px;\n",
              "    }\n",
              "\n",
              "    .colab-df-convert:hover {\n",
              "      background-color: #E2EBFA;\n",
              "      box-shadow: 0px 1px 2px rgba(60, 64, 67, 0.3), 0px 1px 3px 1px rgba(60, 64, 67, 0.15);\n",
              "      fill: #174EA6;\n",
              "    }\n",
              "\n",
              "    .colab-df-buttons div {\n",
              "      margin-bottom: 4px;\n",
              "    }\n",
              "\n",
              "    [theme=dark] .colab-df-convert {\n",
              "      background-color: #3B4455;\n",
              "      fill: #D2E3FC;\n",
              "    }\n",
              "\n",
              "    [theme=dark] .colab-df-convert:hover {\n",
              "      background-color: #434B5C;\n",
              "      box-shadow: 0px 1px 3px 1px rgba(0, 0, 0, 0.15);\n",
              "      filter: drop-shadow(0px 1px 2px rgba(0, 0, 0, 0.3));\n",
              "      fill: #FFFFFF;\n",
              "    }\n",
              "  </style>\n",
              "\n",
              "    <script>\n",
              "      const buttonEl =\n",
              "        document.querySelector('#df-f381c0b4-e7ce-428c-b03d-468a33166a74 button.colab-df-convert');\n",
              "      buttonEl.style.display =\n",
              "        google.colab.kernel.accessAllowed ? 'block' : 'none';\n",
              "\n",
              "      async function convertToInteractive(key) {\n",
              "        const element = document.querySelector('#df-f381c0b4-e7ce-428c-b03d-468a33166a74');\n",
              "        const dataTable =\n",
              "          await google.colab.kernel.invokeFunction('convertToInteractive',\n",
              "                                                    [key], {});\n",
              "        if (!dataTable) return;\n",
              "\n",
              "        const docLinkHtml = 'Like what you see? Visit the ' +\n",
              "          '<a target=\"_blank\" href=https://colab.research.google.com/notebooks/data_table.ipynb>data table notebook</a>'\n",
              "          + ' to learn more about interactive tables.';\n",
              "        element.innerHTML = '';\n",
              "        dataTable['output_type'] = 'display_data';\n",
              "        await google.colab.output.renderOutput(dataTable, element);\n",
              "        const docLink = document.createElement('div');\n",
              "        docLink.innerHTML = docLinkHtml;\n",
              "        element.appendChild(docLink);\n",
              "      }\n",
              "    </script>\n",
              "  </div>\n",
              "\n",
              "\n",
              "    <div id=\"df-7575e8f1-fe3e-483c-870b-4acd07ba162b\">\n",
              "      <button class=\"colab-df-quickchart\" onclick=\"quickchart('df-7575e8f1-fe3e-483c-870b-4acd07ba162b')\"\n",
              "                title=\"Suggest charts\"\n",
              "                style=\"display:none;\">\n",
              "\n",
              "<svg xmlns=\"http://www.w3.org/2000/svg\" height=\"24px\"viewBox=\"0 0 24 24\"\n",
              "     width=\"24px\">\n",
              "    <g>\n",
              "        <path d=\"M19 3H5c-1.1 0-2 .9-2 2v14c0 1.1.9 2 2 2h14c1.1 0 2-.9 2-2V5c0-1.1-.9-2-2-2zM9 17H7v-7h2v7zm4 0h-2V7h2v10zm4 0h-2v-4h2v4z\"/>\n",
              "    </g>\n",
              "</svg>\n",
              "      </button>\n",
              "\n",
              "<style>\n",
              "  .colab-df-quickchart {\n",
              "      --bg-color: #E8F0FE;\n",
              "      --fill-color: #1967D2;\n",
              "      --hover-bg-color: #E2EBFA;\n",
              "      --hover-fill-color: #174EA6;\n",
              "      --disabled-fill-color: #AAA;\n",
              "      --disabled-bg-color: #DDD;\n",
              "  }\n",
              "\n",
              "  [theme=dark] .colab-df-quickchart {\n",
              "      --bg-color: #3B4455;\n",
              "      --fill-color: #D2E3FC;\n",
              "      --hover-bg-color: #434B5C;\n",
              "      --hover-fill-color: #FFFFFF;\n",
              "      --disabled-bg-color: #3B4455;\n",
              "      --disabled-fill-color: #666;\n",
              "  }\n",
              "\n",
              "  .colab-df-quickchart {\n",
              "    background-color: var(--bg-color);\n",
              "    border: none;\n",
              "    border-radius: 50%;\n",
              "    cursor: pointer;\n",
              "    display: none;\n",
              "    fill: var(--fill-color);\n",
              "    height: 32px;\n",
              "    padding: 0;\n",
              "    width: 32px;\n",
              "  }\n",
              "\n",
              "  .colab-df-quickchart:hover {\n",
              "    background-color: var(--hover-bg-color);\n",
              "    box-shadow: 0 1px 2px rgba(60, 64, 67, 0.3), 0 1px 3px 1px rgba(60, 64, 67, 0.15);\n",
              "    fill: var(--button-hover-fill-color);\n",
              "  }\n",
              "\n",
              "  .colab-df-quickchart-complete:disabled,\n",
              "  .colab-df-quickchart-complete:disabled:hover {\n",
              "    background-color: var(--disabled-bg-color);\n",
              "    fill: var(--disabled-fill-color);\n",
              "    box-shadow: none;\n",
              "  }\n",
              "\n",
              "  .colab-df-spinner {\n",
              "    border: 2px solid var(--fill-color);\n",
              "    border-color: transparent;\n",
              "    border-bottom-color: var(--fill-color);\n",
              "    animation:\n",
              "      spin 1s steps(1) infinite;\n",
              "  }\n",
              "\n",
              "  @keyframes spin {\n",
              "    0% {\n",
              "      border-color: transparent;\n",
              "      border-bottom-color: var(--fill-color);\n",
              "      border-left-color: var(--fill-color);\n",
              "    }\n",
              "    20% {\n",
              "      border-color: transparent;\n",
              "      border-left-color: var(--fill-color);\n",
              "      border-top-color: var(--fill-color);\n",
              "    }\n",
              "    30% {\n",
              "      border-color: transparent;\n",
              "      border-left-color: var(--fill-color);\n",
              "      border-top-color: var(--fill-color);\n",
              "      border-right-color: var(--fill-color);\n",
              "    }\n",
              "    40% {\n",
              "      border-color: transparent;\n",
              "      border-right-color: var(--fill-color);\n",
              "      border-top-color: var(--fill-color);\n",
              "    }\n",
              "    60% {\n",
              "      border-color: transparent;\n",
              "      border-right-color: var(--fill-color);\n",
              "    }\n",
              "    80% {\n",
              "      border-color: transparent;\n",
              "      border-right-color: var(--fill-color);\n",
              "      border-bottom-color: var(--fill-color);\n",
              "    }\n",
              "    90% {\n",
              "      border-color: transparent;\n",
              "      border-bottom-color: var(--fill-color);\n",
              "    }\n",
              "  }\n",
              "</style>\n",
              "\n",
              "      <script>\n",
              "        async function quickchart(key) {\n",
              "          const quickchartButtonEl =\n",
              "            document.querySelector('#' + key + ' button');\n",
              "          quickchartButtonEl.disabled = true;  // To prevent multiple clicks.\n",
              "          quickchartButtonEl.classList.add('colab-df-spinner');\n",
              "          try {\n",
              "            const charts = await google.colab.kernel.invokeFunction(\n",
              "                'suggestCharts', [key], {});\n",
              "          } catch (error) {\n",
              "            console.error('Error during call to suggestCharts:', error);\n",
              "          }\n",
              "          quickchartButtonEl.classList.remove('colab-df-spinner');\n",
              "          quickchartButtonEl.classList.add('colab-df-quickchart-complete');\n",
              "        }\n",
              "        (() => {\n",
              "          let quickchartButtonEl =\n",
              "            document.querySelector('#df-7575e8f1-fe3e-483c-870b-4acd07ba162b button');\n",
              "          quickchartButtonEl.style.display =\n",
              "            google.colab.kernel.accessAllowed ? 'block' : 'none';\n",
              "        })();\n",
              "      </script>\n",
              "    </div>\n",
              "\n",
              "    </div>\n",
              "  </div>\n"
            ],
            "application/vnd.google.colaboratory.intrinsic+json": {
              "type": "dataframe",
              "variable_name": "df",
              "summary": "{\n  \"name\": \"df\",\n  \"rows\": 2940,\n  \"fields\": [\n    {\n      \"column\": \"wallet_id\",\n      \"properties\": {\n        \"dtype\": \"category\",\n        \"num_unique_values\": 100,\n        \"samples\": [\n          \"0x5900c783eb2918233ea7de71a7aa0320bb9eca7f\",\n          \"0xc698cf23db693dddfa9db6cbb75d40bdbdbdf41a\",\n          \"0xfedc126b6db6afc0dfe4da3e1dac13bb0cae91a1\"\n        ],\n        \"semantic_type\": \"\",\n        \"description\": \"\"\n      }\n    },\n    {\n      \"column\": \"action\",\n      \"properties\": {\n        \"dtype\": \"category\",\n        \"num_unique_values\": 5,\n        \"samples\": [\n          \"borrow\",\n          \"redeem\",\n          \"mint\"\n        ],\n        \"semantic_type\": \"\",\n        \"description\": \"\"\n      }\n    },\n    {\n      \"column\": \"amount\",\n      \"properties\": {\n        \"dtype\": \"number\",\n        \"std\": 952.8547132543714,\n        \"min\": 0.59,\n        \"max\": 11437.39,\n        \"num_unique_values\": 2920,\n        \"samples\": [\n          2259.22,\n          573.35,\n          1961.84\n        ],\n        \"semantic_type\": \"\",\n        \"description\": \"\"\n      }\n    },\n    {\n      \"column\": \"timestamp\",\n      \"properties\": {\n        \"dtype\": \"date\",\n        \"min\": \"2023-01-01 00:00:00\",\n        \"max\": \"2024-05-15 00:00:00\",\n        \"num_unique_values\": 499,\n        \"samples\": [\n          \"2023-07-23 00:00:00\",\n          \"2023-04-10 00:00:00\",\n          \"2024-01-28 00:00:00\"\n        ],\n        \"semantic_type\": \"\",\n        \"description\": \"\"\n      }\n    }\n  ]\n}"
            }
          },
          "metadata": {},
          "execution_count": 32
        }
      ]
    },
    {
      "cell_type": "markdown",
      "source": [
        "***Feature Engineering + Risk Scoring Code***"
      ],
      "metadata": {
        "id": "FkdG4cUvz6dJ"
      }
    },
    {
      "cell_type": "code",
      "source": [
        "# Step 5: Feature Engineering\n",
        "agg_features = df.pivot_table(\n",
        "    index='wallet_id',\n",
        "    columns='action',\n",
        "    values='amount',\n",
        "    aggfunc='sum',\n",
        "    fill_value=0\n",
        ").reset_index()\n",
        "\n",
        "# Add derived features\n",
        "agg_features['total_txn'] = df.groupby('wallet_id').size().values\n",
        "agg_features['net_balance'] = agg_features.get('mint', 0) - agg_features.get('redeem', 0)\n",
        "agg_features['repay_ratio'] = agg_features.get('repayBorrow', 0) / (agg_features.get('borrow', 1))\n",
        "agg_features['liquidation_risk'] = agg_features.get('liquidateBorrow', 0)\n",
        "\n",
        "# Step 6: Scoring Logic\n",
        "from sklearn.preprocessing import MinMaxScaler\n",
        "\n",
        "# Select features to score\n",
        "features_to_score = ['mint', 'borrow', 'repayBorrow', 'redeem', 'net_balance', 'repay_ratio', 'liquidation_risk', 'total_txn']\n",
        "scaler = MinMaxScaler()\n",
        "scaled_features = scaler.fit_transform(agg_features[features_to_score])\n",
        "\n",
        "# Simple scoring: higher mint/repay/txn count, lower liquidation = good\n",
        "weights = np.array([1.2, 1.0, 1.5, 1.0, 1.3, 1.5, -2.0, 1.2])  # tuned weights\n",
        "agg_features['score_raw'] = scaled_features.dot(weights)\n",
        "\n",
        "# Normalize to 0–1000\n",
        "agg_features['score'] = MinMaxScaler(feature_range=(0, 1000)).fit_transform(agg_features[['score_raw']]).round().astype(int)\n",
        "\n",
        "# Final output\n",
        "final_scores = agg_features[['wallet_id', 'score']]\n",
        "final_scores.head()\n"
      ],
      "metadata": {
        "colab": {
          "base_uri": "https://localhost:8080/",
          "height": 206
        },
        "id": "W9rrkdjuzowB",
        "outputId": "e508d7be-f41e-4a02-cc16-c9f6295440bb"
      },
      "execution_count": 34,
      "outputs": [
        {
          "output_type": "execute_result",
          "data": {
            "text/plain": [
              "action                                   wallet_id  score\n",
              "0       0x02aba2d7e12c8eb700d8ff34fce856ce84729fce    469\n",
              "1       0x057b8c8024114bdd548d2307ea05358712c54798   1000\n",
              "2       0x09931927b32a71660cb84495284c242b145db893     94\n",
              "3       0x0b941f9cd795bbbd3f1158e3bad540098e2ed9a4    173\n",
              "4       0x0f3555bffb2bb7e735250b1177daef0590348041    393"
            ],
            "text/html": [
              "\n",
              "  <div id=\"df-874ab442-b2ed-4fa5-981b-2c24a35f4866\" class=\"colab-df-container\">\n",
              "    <div>\n",
              "<style scoped>\n",
              "    .dataframe tbody tr th:only-of-type {\n",
              "        vertical-align: middle;\n",
              "    }\n",
              "\n",
              "    .dataframe tbody tr th {\n",
              "        vertical-align: top;\n",
              "    }\n",
              "\n",
              "    .dataframe thead th {\n",
              "        text-align: right;\n",
              "    }\n",
              "</style>\n",
              "<table border=\"1\" class=\"dataframe\">\n",
              "  <thead>\n",
              "    <tr style=\"text-align: right;\">\n",
              "      <th>action</th>\n",
              "      <th>wallet_id</th>\n",
              "      <th>score</th>\n",
              "    </tr>\n",
              "  </thead>\n",
              "  <tbody>\n",
              "    <tr>\n",
              "      <th>0</th>\n",
              "      <td>0x02aba2d7e12c8eb700d8ff34fce856ce84729fce</td>\n",
              "      <td>469</td>\n",
              "    </tr>\n",
              "    <tr>\n",
              "      <th>1</th>\n",
              "      <td>0x057b8c8024114bdd548d2307ea05358712c54798</td>\n",
              "      <td>1000</td>\n",
              "    </tr>\n",
              "    <tr>\n",
              "      <th>2</th>\n",
              "      <td>0x09931927b32a71660cb84495284c242b145db893</td>\n",
              "      <td>94</td>\n",
              "    </tr>\n",
              "    <tr>\n",
              "      <th>3</th>\n",
              "      <td>0x0b941f9cd795bbbd3f1158e3bad540098e2ed9a4</td>\n",
              "      <td>173</td>\n",
              "    </tr>\n",
              "    <tr>\n",
              "      <th>4</th>\n",
              "      <td>0x0f3555bffb2bb7e735250b1177daef0590348041</td>\n",
              "      <td>393</td>\n",
              "    </tr>\n",
              "  </tbody>\n",
              "</table>\n",
              "</div>\n",
              "    <div class=\"colab-df-buttons\">\n",
              "\n",
              "  <div class=\"colab-df-container\">\n",
              "    <button class=\"colab-df-convert\" onclick=\"convertToInteractive('df-874ab442-b2ed-4fa5-981b-2c24a35f4866')\"\n",
              "            title=\"Convert this dataframe to an interactive table.\"\n",
              "            style=\"display:none;\">\n",
              "\n",
              "  <svg xmlns=\"http://www.w3.org/2000/svg\" height=\"24px\" viewBox=\"0 -960 960 960\">\n",
              "    <path d=\"M120-120v-720h720v720H120Zm60-500h600v-160H180v160Zm220 220h160v-160H400v160Zm0 220h160v-160H400v160ZM180-400h160v-160H180v160Zm440 0h160v-160H620v160ZM180-180h160v-160H180v160Zm440 0h160v-160H620v160Z\"/>\n",
              "  </svg>\n",
              "    </button>\n",
              "\n",
              "  <style>\n",
              "    .colab-df-container {\n",
              "      display:flex;\n",
              "      gap: 12px;\n",
              "    }\n",
              "\n",
              "    .colab-df-convert {\n",
              "      background-color: #E8F0FE;\n",
              "      border: none;\n",
              "      border-radius: 50%;\n",
              "      cursor: pointer;\n",
              "      display: none;\n",
              "      fill: #1967D2;\n",
              "      height: 32px;\n",
              "      padding: 0 0 0 0;\n",
              "      width: 32px;\n",
              "    }\n",
              "\n",
              "    .colab-df-convert:hover {\n",
              "      background-color: #E2EBFA;\n",
              "      box-shadow: 0px 1px 2px rgba(60, 64, 67, 0.3), 0px 1px 3px 1px rgba(60, 64, 67, 0.15);\n",
              "      fill: #174EA6;\n",
              "    }\n",
              "\n",
              "    .colab-df-buttons div {\n",
              "      margin-bottom: 4px;\n",
              "    }\n",
              "\n",
              "    [theme=dark] .colab-df-convert {\n",
              "      background-color: #3B4455;\n",
              "      fill: #D2E3FC;\n",
              "    }\n",
              "\n",
              "    [theme=dark] .colab-df-convert:hover {\n",
              "      background-color: #434B5C;\n",
              "      box-shadow: 0px 1px 3px 1px rgba(0, 0, 0, 0.15);\n",
              "      filter: drop-shadow(0px 1px 2px rgba(0, 0, 0, 0.3));\n",
              "      fill: #FFFFFF;\n",
              "    }\n",
              "  </style>\n",
              "\n",
              "    <script>\n",
              "      const buttonEl =\n",
              "        document.querySelector('#df-874ab442-b2ed-4fa5-981b-2c24a35f4866 button.colab-df-convert');\n",
              "      buttonEl.style.display =\n",
              "        google.colab.kernel.accessAllowed ? 'block' : 'none';\n",
              "\n",
              "      async function convertToInteractive(key) {\n",
              "        const element = document.querySelector('#df-874ab442-b2ed-4fa5-981b-2c24a35f4866');\n",
              "        const dataTable =\n",
              "          await google.colab.kernel.invokeFunction('convertToInteractive',\n",
              "                                                    [key], {});\n",
              "        if (!dataTable) return;\n",
              "\n",
              "        const docLinkHtml = 'Like what you see? Visit the ' +\n",
              "          '<a target=\"_blank\" href=https://colab.research.google.com/notebooks/data_table.ipynb>data table notebook</a>'\n",
              "          + ' to learn more about interactive tables.';\n",
              "        element.innerHTML = '';\n",
              "        dataTable['output_type'] = 'display_data';\n",
              "        await google.colab.output.renderOutput(dataTable, element);\n",
              "        const docLink = document.createElement('div');\n",
              "        docLink.innerHTML = docLinkHtml;\n",
              "        element.appendChild(docLink);\n",
              "      }\n",
              "    </script>\n",
              "  </div>\n",
              "\n",
              "\n",
              "    <div id=\"df-bfc120fa-f78f-4514-ae2f-7d218698fb26\">\n",
              "      <button class=\"colab-df-quickchart\" onclick=\"quickchart('df-bfc120fa-f78f-4514-ae2f-7d218698fb26')\"\n",
              "                title=\"Suggest charts\"\n",
              "                style=\"display:none;\">\n",
              "\n",
              "<svg xmlns=\"http://www.w3.org/2000/svg\" height=\"24px\"viewBox=\"0 0 24 24\"\n",
              "     width=\"24px\">\n",
              "    <g>\n",
              "        <path d=\"M19 3H5c-1.1 0-2 .9-2 2v14c0 1.1.9 2 2 2h14c1.1 0 2-.9 2-2V5c0-1.1-.9-2-2-2zM9 17H7v-7h2v7zm4 0h-2V7h2v10zm4 0h-2v-4h2v4z\"/>\n",
              "    </g>\n",
              "</svg>\n",
              "      </button>\n",
              "\n",
              "<style>\n",
              "  .colab-df-quickchart {\n",
              "      --bg-color: #E8F0FE;\n",
              "      --fill-color: #1967D2;\n",
              "      --hover-bg-color: #E2EBFA;\n",
              "      --hover-fill-color: #174EA6;\n",
              "      --disabled-fill-color: #AAA;\n",
              "      --disabled-bg-color: #DDD;\n",
              "  }\n",
              "\n",
              "  [theme=dark] .colab-df-quickchart {\n",
              "      --bg-color: #3B4455;\n",
              "      --fill-color: #D2E3FC;\n",
              "      --hover-bg-color: #434B5C;\n",
              "      --hover-fill-color: #FFFFFF;\n",
              "      --disabled-bg-color: #3B4455;\n",
              "      --disabled-fill-color: #666;\n",
              "  }\n",
              "\n",
              "  .colab-df-quickchart {\n",
              "    background-color: var(--bg-color);\n",
              "    border: none;\n",
              "    border-radius: 50%;\n",
              "    cursor: pointer;\n",
              "    display: none;\n",
              "    fill: var(--fill-color);\n",
              "    height: 32px;\n",
              "    padding: 0;\n",
              "    width: 32px;\n",
              "  }\n",
              "\n",
              "  .colab-df-quickchart:hover {\n",
              "    background-color: var(--hover-bg-color);\n",
              "    box-shadow: 0 1px 2px rgba(60, 64, 67, 0.3), 0 1px 3px 1px rgba(60, 64, 67, 0.15);\n",
              "    fill: var(--button-hover-fill-color);\n",
              "  }\n",
              "\n",
              "  .colab-df-quickchart-complete:disabled,\n",
              "  .colab-df-quickchart-complete:disabled:hover {\n",
              "    background-color: var(--disabled-bg-color);\n",
              "    fill: var(--disabled-fill-color);\n",
              "    box-shadow: none;\n",
              "  }\n",
              "\n",
              "  .colab-df-spinner {\n",
              "    border: 2px solid var(--fill-color);\n",
              "    border-color: transparent;\n",
              "    border-bottom-color: var(--fill-color);\n",
              "    animation:\n",
              "      spin 1s steps(1) infinite;\n",
              "  }\n",
              "\n",
              "  @keyframes spin {\n",
              "    0% {\n",
              "      border-color: transparent;\n",
              "      border-bottom-color: var(--fill-color);\n",
              "      border-left-color: var(--fill-color);\n",
              "    }\n",
              "    20% {\n",
              "      border-color: transparent;\n",
              "      border-left-color: var(--fill-color);\n",
              "      border-top-color: var(--fill-color);\n",
              "    }\n",
              "    30% {\n",
              "      border-color: transparent;\n",
              "      border-left-color: var(--fill-color);\n",
              "      border-top-color: var(--fill-color);\n",
              "      border-right-color: var(--fill-color);\n",
              "    }\n",
              "    40% {\n",
              "      border-color: transparent;\n",
              "      border-right-color: var(--fill-color);\n",
              "      border-top-color: var(--fill-color);\n",
              "    }\n",
              "    60% {\n",
              "      border-color: transparent;\n",
              "      border-right-color: var(--fill-color);\n",
              "    }\n",
              "    80% {\n",
              "      border-color: transparent;\n",
              "      border-right-color: var(--fill-color);\n",
              "      border-bottom-color: var(--fill-color);\n",
              "    }\n",
              "    90% {\n",
              "      border-color: transparent;\n",
              "      border-bottom-color: var(--fill-color);\n",
              "    }\n",
              "  }\n",
              "</style>\n",
              "\n",
              "      <script>\n",
              "        async function quickchart(key) {\n",
              "          const quickchartButtonEl =\n",
              "            document.querySelector('#' + key + ' button');\n",
              "          quickchartButtonEl.disabled = true;  // To prevent multiple clicks.\n",
              "          quickchartButtonEl.classList.add('colab-df-spinner');\n",
              "          try {\n",
              "            const charts = await google.colab.kernel.invokeFunction(\n",
              "                'suggestCharts', [key], {});\n",
              "          } catch (error) {\n",
              "            console.error('Error during call to suggestCharts:', error);\n",
              "          }\n",
              "          quickchartButtonEl.classList.remove('colab-df-spinner');\n",
              "          quickchartButtonEl.classList.add('colab-df-quickchart-complete');\n",
              "        }\n",
              "        (() => {\n",
              "          let quickchartButtonEl =\n",
              "            document.querySelector('#df-bfc120fa-f78f-4514-ae2f-7d218698fb26 button');\n",
              "          quickchartButtonEl.style.display =\n",
              "            google.colab.kernel.accessAllowed ? 'block' : 'none';\n",
              "        })();\n",
              "      </script>\n",
              "    </div>\n",
              "\n",
              "    </div>\n",
              "  </div>\n"
            ],
            "application/vnd.google.colaboratory.intrinsic+json": {
              "type": "dataframe",
              "variable_name": "final_scores",
              "summary": "{\n  \"name\": \"final_scores\",\n  \"rows\": 100,\n  \"fields\": [\n    {\n      \"column\": \"wallet_id\",\n      \"properties\": {\n        \"dtype\": \"string\",\n        \"num_unique_values\": 100,\n        \"samples\": [\n          \"0xd11c083e480352435c24d759d787a0f9f97921a3\",\n          \"0x873dbbbc30a1893b299f0cc2548e59a31fa57413\",\n          \"0xb6710922db06c658fe098158aab30ac92a5f0d42\"\n        ],\n        \"semantic_type\": \"\",\n        \"description\": \"\"\n      }\n    },\n    {\n      \"column\": \"score\",\n      \"properties\": {\n        \"dtype\": \"number\",\n        \"std\": 224,\n        \"min\": 0,\n        \"max\": 1000,\n        \"num_unique_values\": 92,\n        \"samples\": [\n          671,\n          310,\n          114\n        ],\n        \"semantic_type\": \"\",\n        \"description\": \"\"\n      }\n    }\n  ]\n}"
            }
          },
          "metadata": {},
          "execution_count": 34
        }
      ]
    },
    {
      "cell_type": "markdown",
      "source": [
        "***Export Final CSV***"
      ],
      "metadata": {
        "id": "kAkMUXkHz3tM"
      }
    },
    {
      "cell_type": "code",
      "source": [
        "# Export to CSV\n",
        "final_scores.to_csv(\"wallet_risk_scores.csv\", index=False)\n"
      ],
      "metadata": {
        "id": "yYM81i11zyTo"
      },
      "execution_count": 35,
      "outputs": []
    }
  ]
}